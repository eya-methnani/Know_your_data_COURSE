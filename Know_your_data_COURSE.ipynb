{
  "nbformat": 4,
  "nbformat_minor": 0,
  "metadata": {
    "colab": {
      "provenance": []
    },
    "kernelspec": {
      "name": "python3",
      "display_name": "Python 3"
    },
    "language_info": {
      "name": "python"
    }
  },
  "cells": [
    {
      "cell_type": "markdown",
      "source": [
        "# Know your data\n",
        "\n",
        "Learn how to effectively explore and deeply understand your data before applying datapreprocessing techniques on it.\n",
        "\n",
        "\n",
        "\n",
        "---\n",
        "\n",
        "\n",
        "> Author: Dr. Fadoua Ouamani\n",
        "\n",
        "\n",
        "---\n",
        "\n",
        "\n",
        "\n"
      ],
      "metadata": {
        "id": "NFARdVhI1vuf"
      }
    },
    {
      "cell_type": "markdown",
      "source": [
        "### **The Dataset**"
      ],
      "metadata": {
        "id": "H2VK6NWcPT9W"
      }
    },
    {
      "cell_type": "markdown",
      "source": [
        "The datas was collected via a form titled \"Tell me more about you\" that was shared with the student to collect :\n",
        "\n",
        "*   Some details about their past grades in some classes related to datamining: Statistics, Mathematics, Programming, and English (as the class materials are all designed and written in english)\n",
        "*   A personality test to have an overall idea about their personalities\n",
        "*   Preferences\n",
        "\n",
        "We will not be using all the data collected, we will only use the following data about:\n",
        "\n",
        "\n",
        "*   The personlity type: nominal attribute with 4 values, Lion, Otter, Beaver, and Golden retriever\n",
        "*   Being a collector or not: binary attribute\n",
        "*   The age: Discrete numerical attribute\n",
        "*   The gender: nominal with two values, F for female and M for male\n",
        "*   Zodiac sign: nominal attribute with the values representing the different signs\n",
        "*   Favorite language : nominal attribute as well and it may continue any language among the existing ones\n",
        "*   4 past grades in Statistics, Mathematics, English and Object-Oriented Programming: Conitnous ration-scaled numerical attributes\n",
        "*   Being someone who likes learning new skills or not: Binary attribute\n",
        "\n",
        "The dataset is titled **TAYOU** as the abbreviation of Tell me About YOU. it was purely a matter of coincidence that this term has a beautiful meaning in Japanese. In fact, Tayou means diverse and varied as my students are <3\n",
        "\n",
        "\n"
      ],
      "metadata": {
        "id": "E35YJhmWPg4q"
      }
    },
    {
      "cell_type": "markdown",
      "source": [
        "### 1.   Import the required libraries\n",
        "\n",
        "\n"
      ],
      "metadata": {
        "id": "xdjfRxGxTbU_"
      }
    },
    {
      "cell_type": "code",
      "source": [
        "import pandas as pd    # to handle the dataframe\n",
        "pd.set_option('expand_frame_repr', False) #to avoid the multi-lines formatting of the dataframe\n",
        "import numpy as np     # to handle numbers and ndarray"
      ],
      "metadata": {
        "id": "zAmfm6f7T05Y"
      },
      "execution_count": null,
      "outputs": []
    },
    {
      "cell_type": "code",
      "source": [
        "from google.colab import drive\n",
        "drive.mount('/content/drive')"
      ],
      "metadata": {
        "colab": {
          "base_uri": "https://localhost:8080/"
        },
        "id": "vBEhMn3U_a-6",
        "outputId": "ecbbb7f0-8362-474a-e7ec-32483b39d200"
      },
      "execution_count": null,
      "outputs": [
        {
          "output_type": "stream",
          "name": "stdout",
          "text": [
            "Mounted at /content/drive\n"
          ]
        }
      ]
    },
    {
      "cell_type": "markdown",
      "source": [
        "### 2.   Dataset loading, indexing and slicing\n",
        "\n"
      ],
      "metadata": {
        "id": "6hqp_EB6T2pQ"
      }
    },
    {
      "cell_type": "code",
      "source": [
        "# Charger le dataset\n",
        "data_path = \"/content/drive/MyDrive/big data/tayou.csv\"\n",
        "tayou_df = pd.read_csv(data_path)"
      ],
      "metadata": {
        "id": "tYgYVJ3I_ry3"
      },
      "execution_count": null,
      "outputs": []
    },
    {
      "cell_type": "code",
      "source": [
        "tayou_df.shape #..........................."
      ],
      "metadata": {
        "id": "-brOehOWNsAr",
        "colab": {
          "base_uri": "https://localhost:8080/"
        },
        "outputId": "ab5e3351-7cae-4e47-9b13-6b9f332d9628"
      },
      "execution_count": null,
      "outputs": [
        {
          "output_type": "execute_result",
          "data": {
            "text/plain": [
              "(102, 11)"
            ]
          },
          "metadata": {},
          "execution_count": 4
        }
      ]
    },
    {
      "cell_type": "code",
      "source": [
        "tayou_df.columns #...................................."
      ],
      "metadata": {
        "id": "BLausrQ9N1FJ",
        "colab": {
          "base_uri": "https://localhost:8080/"
        },
        "outputId": "cafd3eb5-4e1b-4e5b-d190-f604f851e99a"
      },
      "execution_count": null,
      "outputs": [
        {
          "output_type": "execute_result",
          "data": {
            "text/plain": [
              "Index(['Personality', 'Collector', 'Age', 'ZodiacSign', 'FavLg', 'GStat',\n",
              "       'GMath', 'GOOP', 'GEnglish', 'LearnNSkill', 'Gender'],\n",
              "      dtype='object')"
            ]
          },
          "metadata": {},
          "execution_count": 5
        }
      ]
    },
    {
      "cell_type": "code",
      "source": [
        "tayou_df.head() #............................................"
      ],
      "metadata": {
        "id": "OA6bl-2yNeU4",
        "colab": {
          "base_uri": "https://localhost:8080/",
          "height": 206
        },
        "outputId": "f734af88-7a0d-45de-a398-6ad56ad2e722"
      },
      "execution_count": null,
      "outputs": [
        {
          "output_type": "execute_result",
          "data": {
            "text/plain": [
              "  Personality Collector  Age ZodiacSign    FavLg  GStat  GMath  GOOP  GEnglish LearnNSkill Gender\n",
              "0        Lion        No   24      Libra  English   15.0  15.00  15.0      18.0          No      M\n",
              "1       Otter        No   23     Pisces   French    NaN    NaN   NaN       NaN          No      M\n",
              "2        Lion        No   23        Leo  English   10.0  10.00  13.0      13.0         Yes      M\n",
              "3        Lion        No   22    Scorpio  English   14.0  12.00  17.0      15.0         Yes      F\n",
              "4        Lion        No   23        Leo   French   18.0  18.15  16.0      15.0         Yes      F"
            ],
            "text/html": [
              "\n",
              "  <div id=\"df-53ca7e04-d8a6-4a5d-9a38-c4ca11c58bde\" class=\"colab-df-container\">\n",
              "    <div>\n",
              "<style scoped>\n",
              "    .dataframe tbody tr th:only-of-type {\n",
              "        vertical-align: middle;\n",
              "    }\n",
              "\n",
              "    .dataframe tbody tr th {\n",
              "        vertical-align: top;\n",
              "    }\n",
              "\n",
              "    .dataframe thead th {\n",
              "        text-align: right;\n",
              "    }\n",
              "</style>\n",
              "<table border=\"1\" class=\"dataframe\">\n",
              "  <thead>\n",
              "    <tr style=\"text-align: right;\">\n",
              "      <th></th>\n",
              "      <th>Personality</th>\n",
              "      <th>Collector</th>\n",
              "      <th>Age</th>\n",
              "      <th>ZodiacSign</th>\n",
              "      <th>FavLg</th>\n",
              "      <th>GStat</th>\n",
              "      <th>GMath</th>\n",
              "      <th>GOOP</th>\n",
              "      <th>GEnglish</th>\n",
              "      <th>LearnNSkill</th>\n",
              "      <th>Gender</th>\n",
              "    </tr>\n",
              "  </thead>\n",
              "  <tbody>\n",
              "    <tr>\n",
              "      <th>0</th>\n",
              "      <td>Lion</td>\n",
              "      <td>No</td>\n",
              "      <td>24</td>\n",
              "      <td>Libra</td>\n",
              "      <td>English</td>\n",
              "      <td>15.0</td>\n",
              "      <td>15.00</td>\n",
              "      <td>15.0</td>\n",
              "      <td>18.0</td>\n",
              "      <td>No</td>\n",
              "      <td>M</td>\n",
              "    </tr>\n",
              "    <tr>\n",
              "      <th>1</th>\n",
              "      <td>Otter</td>\n",
              "      <td>No</td>\n",
              "      <td>23</td>\n",
              "      <td>Pisces</td>\n",
              "      <td>French</td>\n",
              "      <td>NaN</td>\n",
              "      <td>NaN</td>\n",
              "      <td>NaN</td>\n",
              "      <td>NaN</td>\n",
              "      <td>No</td>\n",
              "      <td>M</td>\n",
              "    </tr>\n",
              "    <tr>\n",
              "      <th>2</th>\n",
              "      <td>Lion</td>\n",
              "      <td>No</td>\n",
              "      <td>23</td>\n",
              "      <td>Leo</td>\n",
              "      <td>English</td>\n",
              "      <td>10.0</td>\n",
              "      <td>10.00</td>\n",
              "      <td>13.0</td>\n",
              "      <td>13.0</td>\n",
              "      <td>Yes</td>\n",
              "      <td>M</td>\n",
              "    </tr>\n",
              "    <tr>\n",
              "      <th>3</th>\n",
              "      <td>Lion</td>\n",
              "      <td>No</td>\n",
              "      <td>22</td>\n",
              "      <td>Scorpio</td>\n",
              "      <td>English</td>\n",
              "      <td>14.0</td>\n",
              "      <td>12.00</td>\n",
              "      <td>17.0</td>\n",
              "      <td>15.0</td>\n",
              "      <td>Yes</td>\n",
              "      <td>F</td>\n",
              "    </tr>\n",
              "    <tr>\n",
              "      <th>4</th>\n",
              "      <td>Lion</td>\n",
              "      <td>No</td>\n",
              "      <td>23</td>\n",
              "      <td>Leo</td>\n",
              "      <td>French</td>\n",
              "      <td>18.0</td>\n",
              "      <td>18.15</td>\n",
              "      <td>16.0</td>\n",
              "      <td>15.0</td>\n",
              "      <td>Yes</td>\n",
              "      <td>F</td>\n",
              "    </tr>\n",
              "  </tbody>\n",
              "</table>\n",
              "</div>\n",
              "    <div class=\"colab-df-buttons\">\n",
              "\n",
              "  <div class=\"colab-df-container\">\n",
              "    <button class=\"colab-df-convert\" onclick=\"convertToInteractive('df-53ca7e04-d8a6-4a5d-9a38-c4ca11c58bde')\"\n",
              "            title=\"Convert this dataframe to an interactive table.\"\n",
              "            style=\"display:none;\">\n",
              "\n",
              "  <svg xmlns=\"http://www.w3.org/2000/svg\" height=\"24px\" viewBox=\"0 -960 960 960\">\n",
              "    <path d=\"M120-120v-720h720v720H120Zm60-500h600v-160H180v160Zm220 220h160v-160H400v160Zm0 220h160v-160H400v160ZM180-400h160v-160H180v160Zm440 0h160v-160H620v160ZM180-180h160v-160H180v160Zm440 0h160v-160H620v160Z\"/>\n",
              "  </svg>\n",
              "    </button>\n",
              "\n",
              "  <style>\n",
              "    .colab-df-container {\n",
              "      display:flex;\n",
              "      gap: 12px;\n",
              "    }\n",
              "\n",
              "    .colab-df-convert {\n",
              "      background-color: #E8F0FE;\n",
              "      border: none;\n",
              "      border-radius: 50%;\n",
              "      cursor: pointer;\n",
              "      display: none;\n",
              "      fill: #1967D2;\n",
              "      height: 32px;\n",
              "      padding: 0 0 0 0;\n",
              "      width: 32px;\n",
              "    }\n",
              "\n",
              "    .colab-df-convert:hover {\n",
              "      background-color: #E2EBFA;\n",
              "      box-shadow: 0px 1px 2px rgba(60, 64, 67, 0.3), 0px 1px 3px 1px rgba(60, 64, 67, 0.15);\n",
              "      fill: #174EA6;\n",
              "    }\n",
              "\n",
              "    .colab-df-buttons div {\n",
              "      margin-bottom: 4px;\n",
              "    }\n",
              "\n",
              "    [theme=dark] .colab-df-convert {\n",
              "      background-color: #3B4455;\n",
              "      fill: #D2E3FC;\n",
              "    }\n",
              "\n",
              "    [theme=dark] .colab-df-convert:hover {\n",
              "      background-color: #434B5C;\n",
              "      box-shadow: 0px 1px 3px 1px rgba(0, 0, 0, 0.15);\n",
              "      filter: drop-shadow(0px 1px 2px rgba(0, 0, 0, 0.3));\n",
              "      fill: #FFFFFF;\n",
              "    }\n",
              "  </style>\n",
              "\n",
              "    <script>\n",
              "      const buttonEl =\n",
              "        document.querySelector('#df-53ca7e04-d8a6-4a5d-9a38-c4ca11c58bde button.colab-df-convert');\n",
              "      buttonEl.style.display =\n",
              "        google.colab.kernel.accessAllowed ? 'block' : 'none';\n",
              "\n",
              "      async function convertToInteractive(key) {\n",
              "        const element = document.querySelector('#df-53ca7e04-d8a6-4a5d-9a38-c4ca11c58bde');\n",
              "        const dataTable =\n",
              "          await google.colab.kernel.invokeFunction('convertToInteractive',\n",
              "                                                    [key], {});\n",
              "        if (!dataTable) return;\n",
              "\n",
              "        const docLinkHtml = 'Like what you see? Visit the ' +\n",
              "          '<a target=\"_blank\" href=https://colab.research.google.com/notebooks/data_table.ipynb>data table notebook</a>'\n",
              "          + ' to learn more about interactive tables.';\n",
              "        element.innerHTML = '';\n",
              "        dataTable['output_type'] = 'display_data';\n",
              "        await google.colab.output.renderOutput(dataTable, element);\n",
              "        const docLink = document.createElement('div');\n",
              "        docLink.innerHTML = docLinkHtml;\n",
              "        element.appendChild(docLink);\n",
              "      }\n",
              "    </script>\n",
              "  </div>\n",
              "\n",
              "\n",
              "<div id=\"df-41c9fb18-b8de-4a95-8e3b-2cb5c229f138\">\n",
              "  <button class=\"colab-df-quickchart\" onclick=\"quickchart('df-41c9fb18-b8de-4a95-8e3b-2cb5c229f138')\"\n",
              "            title=\"Suggest charts\"\n",
              "            style=\"display:none;\">\n",
              "\n",
              "<svg xmlns=\"http://www.w3.org/2000/svg\" height=\"24px\"viewBox=\"0 0 24 24\"\n",
              "     width=\"24px\">\n",
              "    <g>\n",
              "        <path d=\"M19 3H5c-1.1 0-2 .9-2 2v14c0 1.1.9 2 2 2h14c1.1 0 2-.9 2-2V5c0-1.1-.9-2-2-2zM9 17H7v-7h2v7zm4 0h-2V7h2v10zm4 0h-2v-4h2v4z\"/>\n",
              "    </g>\n",
              "</svg>\n",
              "  </button>\n",
              "\n",
              "<style>\n",
              "  .colab-df-quickchart {\n",
              "      --bg-color: #E8F0FE;\n",
              "      --fill-color: #1967D2;\n",
              "      --hover-bg-color: #E2EBFA;\n",
              "      --hover-fill-color: #174EA6;\n",
              "      --disabled-fill-color: #AAA;\n",
              "      --disabled-bg-color: #DDD;\n",
              "  }\n",
              "\n",
              "  [theme=dark] .colab-df-quickchart {\n",
              "      --bg-color: #3B4455;\n",
              "      --fill-color: #D2E3FC;\n",
              "      --hover-bg-color: #434B5C;\n",
              "      --hover-fill-color: #FFFFFF;\n",
              "      --disabled-bg-color: #3B4455;\n",
              "      --disabled-fill-color: #666;\n",
              "  }\n",
              "\n",
              "  .colab-df-quickchart {\n",
              "    background-color: var(--bg-color);\n",
              "    border: none;\n",
              "    border-radius: 50%;\n",
              "    cursor: pointer;\n",
              "    display: none;\n",
              "    fill: var(--fill-color);\n",
              "    height: 32px;\n",
              "    padding: 0;\n",
              "    width: 32px;\n",
              "  }\n",
              "\n",
              "  .colab-df-quickchart:hover {\n",
              "    background-color: var(--hover-bg-color);\n",
              "    box-shadow: 0 1px 2px rgba(60, 64, 67, 0.3), 0 1px 3px 1px rgba(60, 64, 67, 0.15);\n",
              "    fill: var(--button-hover-fill-color);\n",
              "  }\n",
              "\n",
              "  .colab-df-quickchart-complete:disabled,\n",
              "  .colab-df-quickchart-complete:disabled:hover {\n",
              "    background-color: var(--disabled-bg-color);\n",
              "    fill: var(--disabled-fill-color);\n",
              "    box-shadow: none;\n",
              "  }\n",
              "\n",
              "  .colab-df-spinner {\n",
              "    border: 2px solid var(--fill-color);\n",
              "    border-color: transparent;\n",
              "    border-bottom-color: var(--fill-color);\n",
              "    animation:\n",
              "      spin 1s steps(1) infinite;\n",
              "  }\n",
              "\n",
              "  @keyframes spin {\n",
              "    0% {\n",
              "      border-color: transparent;\n",
              "      border-bottom-color: var(--fill-color);\n",
              "      border-left-color: var(--fill-color);\n",
              "    }\n",
              "    20% {\n",
              "      border-color: transparent;\n",
              "      border-left-color: var(--fill-color);\n",
              "      border-top-color: var(--fill-color);\n",
              "    }\n",
              "    30% {\n",
              "      border-color: transparent;\n",
              "      border-left-color: var(--fill-color);\n",
              "      border-top-color: var(--fill-color);\n",
              "      border-right-color: var(--fill-color);\n",
              "    }\n",
              "    40% {\n",
              "      border-color: transparent;\n",
              "      border-right-color: var(--fill-color);\n",
              "      border-top-color: var(--fill-color);\n",
              "    }\n",
              "    60% {\n",
              "      border-color: transparent;\n",
              "      border-right-color: var(--fill-color);\n",
              "    }\n",
              "    80% {\n",
              "      border-color: transparent;\n",
              "      border-right-color: var(--fill-color);\n",
              "      border-bottom-color: var(--fill-color);\n",
              "    }\n",
              "    90% {\n",
              "      border-color: transparent;\n",
              "      border-bottom-color: var(--fill-color);\n",
              "    }\n",
              "  }\n",
              "</style>\n",
              "\n",
              "  <script>\n",
              "    async function quickchart(key) {\n",
              "      const quickchartButtonEl =\n",
              "        document.querySelector('#' + key + ' button');\n",
              "      quickchartButtonEl.disabled = true;  // To prevent multiple clicks.\n",
              "      quickchartButtonEl.classList.add('colab-df-spinner');\n",
              "      try {\n",
              "        const charts = await google.colab.kernel.invokeFunction(\n",
              "            'suggestCharts', [key], {});\n",
              "      } catch (error) {\n",
              "        console.error('Error during call to suggestCharts:', error);\n",
              "      }\n",
              "      quickchartButtonEl.classList.remove('colab-df-spinner');\n",
              "      quickchartButtonEl.classList.add('colab-df-quickchart-complete');\n",
              "    }\n",
              "    (() => {\n",
              "      let quickchartButtonEl =\n",
              "        document.querySelector('#df-41c9fb18-b8de-4a95-8e3b-2cb5c229f138 button');\n",
              "      quickchartButtonEl.style.display =\n",
              "        google.colab.kernel.accessAllowed ? 'block' : 'none';\n",
              "    })();\n",
              "  </script>\n",
              "</div>\n",
              "\n",
              "    </div>\n",
              "  </div>\n"
            ],
            "application/vnd.google.colaboratory.intrinsic+json": {
              "type": "dataframe",
              "variable_name": "tayou_df",
              "summary": "{\n  \"name\": \"tayou_df\",\n  \"rows\": 102,\n  \"fields\": [\n    {\n      \"column\": \"Personality\",\n      \"properties\": {\n        \"dtype\": \"category\",\n        \"num_unique_values\": 4,\n        \"samples\": [\n          \"Otter\",\n          \"Beaver\",\n          \"Lion\"\n        ],\n        \"semantic_type\": \"\",\n        \"description\": \"\"\n      }\n    },\n    {\n      \"column\": \"Collector\",\n      \"properties\": {\n        \"dtype\": \"category\",\n        \"num_unique_values\": 2,\n        \"samples\": [\n          \"Yes\",\n          \"No\"\n        ],\n        \"semantic_type\": \"\",\n        \"description\": \"\"\n      }\n    },\n    {\n      \"column\": \"Age\",\n      \"properties\": {\n        \"dtype\": \"number\",\n        \"std\": 1,\n        \"min\": 22,\n        \"max\": 32,\n        \"num_unique_values\": 7,\n        \"samples\": [\n          24,\n          23\n        ],\n        \"semantic_type\": \"\",\n        \"description\": \"\"\n      }\n    },\n    {\n      \"column\": \"ZodiacSign\",\n      \"properties\": {\n        \"dtype\": \"category\",\n        \"num_unique_values\": 12,\n        \"samples\": [\n          \"Aquarius\",\n          \"Aries\"\n        ],\n        \"semantic_type\": \"\",\n        \"description\": \"\"\n      }\n    },\n    {\n      \"column\": \"FavLg\",\n      \"properties\": {\n        \"dtype\": \"category\",\n        \"num_unique_values\": 9,\n        \"samples\": [\n          \"Italian\",\n          \"French\"\n        ],\n        \"semantic_type\": \"\",\n        \"description\": \"\"\n      }\n    },\n    {\n      \"column\": \"GStat\",\n      \"properties\": {\n        \"dtype\": \"number\",\n        \"std\": 2.5684323780830622,\n        \"min\": 8.4,\n        \"max\": 19.0,\n        \"num_unique_values\": 37,\n        \"samples\": [\n          15.9,\n          8.4\n        ],\n        \"semantic_type\": \"\",\n        \"description\": \"\"\n      }\n    },\n    {\n      \"column\": \"GMath\",\n      \"properties\": {\n        \"dtype\": \"number\",\n        \"std\": 2.2631776261542527,\n        \"min\": 7.0,\n        \"max\": 20.0,\n        \"num_unique_values\": 27,\n        \"samples\": [\n          13.0,\n          9.8\n        ],\n        \"semantic_type\": \"\",\n        \"description\": \"\"\n      }\n    },\n    {\n      \"column\": \"GOOP\",\n      \"properties\": {\n        \"dtype\": \"number\",\n        \"std\": 1.8568151935521688,\n        \"min\": 10.0,\n        \"max\": 18.0,\n        \"num_unique_values\": 32,\n        \"samples\": [\n          12.5,\n          17.28\n        ],\n        \"semantic_type\": \"\",\n        \"description\": \"\"\n      }\n    },\n    {\n      \"column\": \"GEnglish\",\n      \"properties\": {\n        \"dtype\": \"number\",\n        \"std\": 2.24397807935239,\n        \"min\": 8.0,\n        \"max\": 20.0,\n        \"num_unique_values\": 31,\n        \"samples\": [\n          15.55,\n          13.23\n        ],\n        \"semantic_type\": \"\",\n        \"description\": \"\"\n      }\n    },\n    {\n      \"column\": \"LearnNSkill\",\n      \"properties\": {\n        \"dtype\": \"category\",\n        \"num_unique_values\": 2,\n        \"samples\": [\n          \"Yes\",\n          \"No\"\n        ],\n        \"semantic_type\": \"\",\n        \"description\": \"\"\n      }\n    },\n    {\n      \"column\": \"Gender\",\n      \"properties\": {\n        \"dtype\": \"category\",\n        \"num_unique_values\": 2,\n        \"samples\": [\n          \"F\",\n          \"M\"\n        ],\n        \"semantic_type\": \"\",\n        \"description\": \"\"\n      }\n    }\n  ]\n}"
            }
          },
          "metadata": {},
          "execution_count": 6
        }
      ]
    },
    {
      "cell_type": "markdown",
      "source": [
        "The dataset contains 102 rows and 11 columns. Below is a description of each column:\n",
        "\n",
        "* **Personality:** Categorical data representing a personality type (e.g., \"Lion\",\n",
        "\"Otter\").\n",
        "* **Collector:** Categorical data indicating if the individual is a collector (\"Yes\" or \"No\").\n",
        "* **Age**: Integer values representing the age of individuals.\n",
        "* **ZodiacSign:** Categorical data for each person's zodiac sign (e.g., \"Libra\", \"Pisces\").\n",
        "* **FavLg:** Categorical data representing the individual's favorite language (e.g., \"English\", \"French\"). This column has one missing value.\n",
        "* **GStat:** Numerical data (float) representing a score for statistics. This column has some missing values.\n",
        "* **GMath:** Numerical data (float) representing a score for mathematics. This column has some missing values.\n",
        "* **GOOP:** Numerical data (float) representing a score for other subjects or topics. This column has some missing values.\n",
        "* **GEnglish:** Numerical data (float) representing a score for English. This column has some missing values.\n",
        "* **LearnNSkill:** Categorical data indicating if the individual is learning new skills (\"Yes\" or \"No\").\n",
        "* **Gender:** Categorical data representing the individual's gender (\"M\" for male, \"F\" for female)."
      ],
      "metadata": {
        "id": "b_lNSrOUB4A0"
      }
    },
    {
      "cell_type": "code",
      "source": [
        "#Indexing differently and slicing\n",
        "print(tayou_df.loc[0].index) #.....................\n",
        "tayou_df.set_index(np.arange(10,112), inplace=True) #...............................\n",
        "print(tayou_df.loc[10].index) #..................................................\n",
        "print('from 5 to 7 ',tayou_df.iloc[5:7,0:2]) # .................................................\n",
        "\n"
      ],
      "metadata": {
        "id": "XzI9lvkxNXp6",
        "colab": {
          "base_uri": "https://localhost:8080/"
        },
        "outputId": "440ae877-3551-4bec-d15b-ce6c1c9d62cd"
      },
      "execution_count": null,
      "outputs": [
        {
          "output_type": "stream",
          "name": "stdout",
          "text": [
            "Index(['Personality', 'Collector', 'Age', 'ZodiacSign', 'FavLg', 'GStat',\n",
            "       'GMath', 'GOOP', 'GEnglish', 'LearnNSkill', 'Gender'],\n",
            "      dtype='object')\n",
            "Index(['Personality', 'Collector', 'Age', 'ZodiacSign', 'FavLg', 'GStat',\n",
            "       'GMath', 'GOOP', 'GEnglish', 'LearnNSkill', 'Gender'],\n",
            "      dtype='object')\n",
            "from 5 to 7           Personality Collector\n",
            "15              Lion       Yes\n",
            "16  Golden retriever        No\n"
          ]
        }
      ]
    },
    {
      "cell_type": "code",
      "source": [
        "print(tayou_df.loc['15':'17', 'Personality':'Age']) #.................."
      ],
      "metadata": {
        "colab": {
          "base_uri": "https://localhost:8080/"
        },
        "id": "C3oBHJBVGRbS",
        "outputId": "e454121b-8d36-498f-bed4-fc70a9bb8953"
      },
      "execution_count": null,
      "outputs": [
        {
          "output_type": "stream",
          "name": "stdout",
          "text": [
            "         Personality Collector  Age\n",
            "15              Lion       Yes   23\n",
            "16  Golden retriever        No   23\n",
            "17              Lion        No   24\n"
          ]
        }
      ]
    },
    {
      "cell_type": "markdown",
      "source": [
        "We have changed the indices from 0-101 to 10-111.\n",
        "\n",
        " The .iloc[] method uses position-based indexing, meaning it ignores index labels and focuses solely on row positions. After setting a new index, the positions remain unchanged, so requesting rows at positions 5:7 will yield the 6th and 7th rows in the DataFrame, regardless of their index labels. In contrast, the .loc method performs label-based selection while .iloc performs position-based selection."
      ],
      "metadata": {
        "id": "K6dzwAYgE9uI"
      }
    },
    {
      "cell_type": "code",
      "source": [
        "tayou_df.head()"
      ],
      "metadata": {
        "colab": {
          "base_uri": "https://localhost:8080/",
          "height": 206
        },
        "id": "305FxxS4Gz6N",
        "outputId": "61b410fd-aedd-4a6d-9682-f9bdd2f62f5a"
      },
      "execution_count": null,
      "outputs": [
        {
          "output_type": "execute_result",
          "data": {
            "text/plain": [
              "   Personality Collector  Age ZodiacSign    FavLg  GStat  GMath  GOOP  GEnglish LearnNSkill Gender\n",
              "10        Lion        No   24      Libra  English   15.0  15.00  15.0      18.0          No      M\n",
              "11       Otter        No   23     Pisces   French    NaN    NaN   NaN       NaN          No      M\n",
              "12        Lion        No   23        Leo  English   10.0  10.00  13.0      13.0         Yes      M\n",
              "13        Lion        No   22    Scorpio  English   14.0  12.00  17.0      15.0         Yes      F\n",
              "14        Lion        No   23        Leo   French   18.0  18.15  16.0      15.0         Yes      F"
            ],
            "text/html": [
              "\n",
              "  <div id=\"df-f2029122-3369-4459-8409-bdecf5ccbb0f\" class=\"colab-df-container\">\n",
              "    <div>\n",
              "<style scoped>\n",
              "    .dataframe tbody tr th:only-of-type {\n",
              "        vertical-align: middle;\n",
              "    }\n",
              "\n",
              "    .dataframe tbody tr th {\n",
              "        vertical-align: top;\n",
              "    }\n",
              "\n",
              "    .dataframe thead th {\n",
              "        text-align: right;\n",
              "    }\n",
              "</style>\n",
              "<table border=\"1\" class=\"dataframe\">\n",
              "  <thead>\n",
              "    <tr style=\"text-align: right;\">\n",
              "      <th></th>\n",
              "      <th>Personality</th>\n",
              "      <th>Collector</th>\n",
              "      <th>Age</th>\n",
              "      <th>ZodiacSign</th>\n",
              "      <th>FavLg</th>\n",
              "      <th>GStat</th>\n",
              "      <th>GMath</th>\n",
              "      <th>GOOP</th>\n",
              "      <th>GEnglish</th>\n",
              "      <th>LearnNSkill</th>\n",
              "      <th>Gender</th>\n",
              "    </tr>\n",
              "  </thead>\n",
              "  <tbody>\n",
              "    <tr>\n",
              "      <th>10</th>\n",
              "      <td>Lion</td>\n",
              "      <td>No</td>\n",
              "      <td>24</td>\n",
              "      <td>Libra</td>\n",
              "      <td>English</td>\n",
              "      <td>15.0</td>\n",
              "      <td>15.00</td>\n",
              "      <td>15.0</td>\n",
              "      <td>18.0</td>\n",
              "      <td>No</td>\n",
              "      <td>M</td>\n",
              "    </tr>\n",
              "    <tr>\n",
              "      <th>11</th>\n",
              "      <td>Otter</td>\n",
              "      <td>No</td>\n",
              "      <td>23</td>\n",
              "      <td>Pisces</td>\n",
              "      <td>French</td>\n",
              "      <td>NaN</td>\n",
              "      <td>NaN</td>\n",
              "      <td>NaN</td>\n",
              "      <td>NaN</td>\n",
              "      <td>No</td>\n",
              "      <td>M</td>\n",
              "    </tr>\n",
              "    <tr>\n",
              "      <th>12</th>\n",
              "      <td>Lion</td>\n",
              "      <td>No</td>\n",
              "      <td>23</td>\n",
              "      <td>Leo</td>\n",
              "      <td>English</td>\n",
              "      <td>10.0</td>\n",
              "      <td>10.00</td>\n",
              "      <td>13.0</td>\n",
              "      <td>13.0</td>\n",
              "      <td>Yes</td>\n",
              "      <td>M</td>\n",
              "    </tr>\n",
              "    <tr>\n",
              "      <th>13</th>\n",
              "      <td>Lion</td>\n",
              "      <td>No</td>\n",
              "      <td>22</td>\n",
              "      <td>Scorpio</td>\n",
              "      <td>English</td>\n",
              "      <td>14.0</td>\n",
              "      <td>12.00</td>\n",
              "      <td>17.0</td>\n",
              "      <td>15.0</td>\n",
              "      <td>Yes</td>\n",
              "      <td>F</td>\n",
              "    </tr>\n",
              "    <tr>\n",
              "      <th>14</th>\n",
              "      <td>Lion</td>\n",
              "      <td>No</td>\n",
              "      <td>23</td>\n",
              "      <td>Leo</td>\n",
              "      <td>French</td>\n",
              "      <td>18.0</td>\n",
              "      <td>18.15</td>\n",
              "      <td>16.0</td>\n",
              "      <td>15.0</td>\n",
              "      <td>Yes</td>\n",
              "      <td>F</td>\n",
              "    </tr>\n",
              "  </tbody>\n",
              "</table>\n",
              "</div>\n",
              "    <div class=\"colab-df-buttons\">\n",
              "\n",
              "  <div class=\"colab-df-container\">\n",
              "    <button class=\"colab-df-convert\" onclick=\"convertToInteractive('df-f2029122-3369-4459-8409-bdecf5ccbb0f')\"\n",
              "            title=\"Convert this dataframe to an interactive table.\"\n",
              "            style=\"display:none;\">\n",
              "\n",
              "  <svg xmlns=\"http://www.w3.org/2000/svg\" height=\"24px\" viewBox=\"0 -960 960 960\">\n",
              "    <path d=\"M120-120v-720h720v720H120Zm60-500h600v-160H180v160Zm220 220h160v-160H400v160Zm0 220h160v-160H400v160ZM180-400h160v-160H180v160Zm440 0h160v-160H620v160ZM180-180h160v-160H180v160Zm440 0h160v-160H620v160Z\"/>\n",
              "  </svg>\n",
              "    </button>\n",
              "\n",
              "  <style>\n",
              "    .colab-df-container {\n",
              "      display:flex;\n",
              "      gap: 12px;\n",
              "    }\n",
              "\n",
              "    .colab-df-convert {\n",
              "      background-color: #E8F0FE;\n",
              "      border: none;\n",
              "      border-radius: 50%;\n",
              "      cursor: pointer;\n",
              "      display: none;\n",
              "      fill: #1967D2;\n",
              "      height: 32px;\n",
              "      padding: 0 0 0 0;\n",
              "      width: 32px;\n",
              "    }\n",
              "\n",
              "    .colab-df-convert:hover {\n",
              "      background-color: #E2EBFA;\n",
              "      box-shadow: 0px 1px 2px rgba(60, 64, 67, 0.3), 0px 1px 3px 1px rgba(60, 64, 67, 0.15);\n",
              "      fill: #174EA6;\n",
              "    }\n",
              "\n",
              "    .colab-df-buttons div {\n",
              "      margin-bottom: 4px;\n",
              "    }\n",
              "\n",
              "    [theme=dark] .colab-df-convert {\n",
              "      background-color: #3B4455;\n",
              "      fill: #D2E3FC;\n",
              "    }\n",
              "\n",
              "    [theme=dark] .colab-df-convert:hover {\n",
              "      background-color: #434B5C;\n",
              "      box-shadow: 0px 1px 3px 1px rgba(0, 0, 0, 0.15);\n",
              "      filter: drop-shadow(0px 1px 2px rgba(0, 0, 0, 0.3));\n",
              "      fill: #FFFFFF;\n",
              "    }\n",
              "  </style>\n",
              "\n",
              "    <script>\n",
              "      const buttonEl =\n",
              "        document.querySelector('#df-f2029122-3369-4459-8409-bdecf5ccbb0f button.colab-df-convert');\n",
              "      buttonEl.style.display =\n",
              "        google.colab.kernel.accessAllowed ? 'block' : 'none';\n",
              "\n",
              "      async function convertToInteractive(key) {\n",
              "        const element = document.querySelector('#df-f2029122-3369-4459-8409-bdecf5ccbb0f');\n",
              "        const dataTable =\n",
              "          await google.colab.kernel.invokeFunction('convertToInteractive',\n",
              "                                                    [key], {});\n",
              "        if (!dataTable) return;\n",
              "\n",
              "        const docLinkHtml = 'Like what you see? Visit the ' +\n",
              "          '<a target=\"_blank\" href=https://colab.research.google.com/notebooks/data_table.ipynb>data table notebook</a>'\n",
              "          + ' to learn more about interactive tables.';\n",
              "        element.innerHTML = '';\n",
              "        dataTable['output_type'] = 'display_data';\n",
              "        await google.colab.output.renderOutput(dataTable, element);\n",
              "        const docLink = document.createElement('div');\n",
              "        docLink.innerHTML = docLinkHtml;\n",
              "        element.appendChild(docLink);\n",
              "      }\n",
              "    </script>\n",
              "  </div>\n",
              "\n",
              "\n",
              "<div id=\"df-88259fb5-2f95-45ab-814f-215640ecd922\">\n",
              "  <button class=\"colab-df-quickchart\" onclick=\"quickchart('df-88259fb5-2f95-45ab-814f-215640ecd922')\"\n",
              "            title=\"Suggest charts\"\n",
              "            style=\"display:none;\">\n",
              "\n",
              "<svg xmlns=\"http://www.w3.org/2000/svg\" height=\"24px\"viewBox=\"0 0 24 24\"\n",
              "     width=\"24px\">\n",
              "    <g>\n",
              "        <path d=\"M19 3H5c-1.1 0-2 .9-2 2v14c0 1.1.9 2 2 2h14c1.1 0 2-.9 2-2V5c0-1.1-.9-2-2-2zM9 17H7v-7h2v7zm4 0h-2V7h2v10zm4 0h-2v-4h2v4z\"/>\n",
              "    </g>\n",
              "</svg>\n",
              "  </button>\n",
              "\n",
              "<style>\n",
              "  .colab-df-quickchart {\n",
              "      --bg-color: #E8F0FE;\n",
              "      --fill-color: #1967D2;\n",
              "      --hover-bg-color: #E2EBFA;\n",
              "      --hover-fill-color: #174EA6;\n",
              "      --disabled-fill-color: #AAA;\n",
              "      --disabled-bg-color: #DDD;\n",
              "  }\n",
              "\n",
              "  [theme=dark] .colab-df-quickchart {\n",
              "      --bg-color: #3B4455;\n",
              "      --fill-color: #D2E3FC;\n",
              "      --hover-bg-color: #434B5C;\n",
              "      --hover-fill-color: #FFFFFF;\n",
              "      --disabled-bg-color: #3B4455;\n",
              "      --disabled-fill-color: #666;\n",
              "  }\n",
              "\n",
              "  .colab-df-quickchart {\n",
              "    background-color: var(--bg-color);\n",
              "    border: none;\n",
              "    border-radius: 50%;\n",
              "    cursor: pointer;\n",
              "    display: none;\n",
              "    fill: var(--fill-color);\n",
              "    height: 32px;\n",
              "    padding: 0;\n",
              "    width: 32px;\n",
              "  }\n",
              "\n",
              "  .colab-df-quickchart:hover {\n",
              "    background-color: var(--hover-bg-color);\n",
              "    box-shadow: 0 1px 2px rgba(60, 64, 67, 0.3), 0 1px 3px 1px rgba(60, 64, 67, 0.15);\n",
              "    fill: var(--button-hover-fill-color);\n",
              "  }\n",
              "\n",
              "  .colab-df-quickchart-complete:disabled,\n",
              "  .colab-df-quickchart-complete:disabled:hover {\n",
              "    background-color: var(--disabled-bg-color);\n",
              "    fill: var(--disabled-fill-color);\n",
              "    box-shadow: none;\n",
              "  }\n",
              "\n",
              "  .colab-df-spinner {\n",
              "    border: 2px solid var(--fill-color);\n",
              "    border-color: transparent;\n",
              "    border-bottom-color: var(--fill-color);\n",
              "    animation:\n",
              "      spin 1s steps(1) infinite;\n",
              "  }\n",
              "\n",
              "  @keyframes spin {\n",
              "    0% {\n",
              "      border-color: transparent;\n",
              "      border-bottom-color: var(--fill-color);\n",
              "      border-left-color: var(--fill-color);\n",
              "    }\n",
              "    20% {\n",
              "      border-color: transparent;\n",
              "      border-left-color: var(--fill-color);\n",
              "      border-top-color: var(--fill-color);\n",
              "    }\n",
              "    30% {\n",
              "      border-color: transparent;\n",
              "      border-left-color: var(--fill-color);\n",
              "      border-top-color: var(--fill-color);\n",
              "      border-right-color: var(--fill-color);\n",
              "    }\n",
              "    40% {\n",
              "      border-color: transparent;\n",
              "      border-right-color: var(--fill-color);\n",
              "      border-top-color: var(--fill-color);\n",
              "    }\n",
              "    60% {\n",
              "      border-color: transparent;\n",
              "      border-right-color: var(--fill-color);\n",
              "    }\n",
              "    80% {\n",
              "      border-color: transparent;\n",
              "      border-right-color: var(--fill-color);\n",
              "      border-bottom-color: var(--fill-color);\n",
              "    }\n",
              "    90% {\n",
              "      border-color: transparent;\n",
              "      border-bottom-color: var(--fill-color);\n",
              "    }\n",
              "  }\n",
              "</style>\n",
              "\n",
              "  <script>\n",
              "    async function quickchart(key) {\n",
              "      const quickchartButtonEl =\n",
              "        document.querySelector('#' + key + ' button');\n",
              "      quickchartButtonEl.disabled = true;  // To prevent multiple clicks.\n",
              "      quickchartButtonEl.classList.add('colab-df-spinner');\n",
              "      try {\n",
              "        const charts = await google.colab.kernel.invokeFunction(\n",
              "            'suggestCharts', [key], {});\n",
              "      } catch (error) {\n",
              "        console.error('Error during call to suggestCharts:', error);\n",
              "      }\n",
              "      quickchartButtonEl.classList.remove('colab-df-spinner');\n",
              "      quickchartButtonEl.classList.add('colab-df-quickchart-complete');\n",
              "    }\n",
              "    (() => {\n",
              "      let quickchartButtonEl =\n",
              "        document.querySelector('#df-88259fb5-2f95-45ab-814f-215640ecd922 button');\n",
              "      quickchartButtonEl.style.display =\n",
              "        google.colab.kernel.accessAllowed ? 'block' : 'none';\n",
              "    })();\n",
              "  </script>\n",
              "</div>\n",
              "\n",
              "    </div>\n",
              "  </div>\n"
            ],
            "application/vnd.google.colaboratory.intrinsic+json": {
              "type": "dataframe",
              "variable_name": "tayou_df",
              "summary": "{\n  \"name\": \"tayou_df\",\n  \"rows\": 102,\n  \"fields\": [\n    {\n      \"column\": \"Personality\",\n      \"properties\": {\n        \"dtype\": \"category\",\n        \"num_unique_values\": 4,\n        \"samples\": [\n          \"Otter\",\n          \"Beaver\",\n          \"Lion\"\n        ],\n        \"semantic_type\": \"\",\n        \"description\": \"\"\n      }\n    },\n    {\n      \"column\": \"Collector\",\n      \"properties\": {\n        \"dtype\": \"category\",\n        \"num_unique_values\": 2,\n        \"samples\": [\n          \"Yes\",\n          \"No\"\n        ],\n        \"semantic_type\": \"\",\n        \"description\": \"\"\n      }\n    },\n    {\n      \"column\": \"Age\",\n      \"properties\": {\n        \"dtype\": \"number\",\n        \"std\": 1,\n        \"min\": 22,\n        \"max\": 32,\n        \"num_unique_values\": 7,\n        \"samples\": [\n          24,\n          23\n        ],\n        \"semantic_type\": \"\",\n        \"description\": \"\"\n      }\n    },\n    {\n      \"column\": \"ZodiacSign\",\n      \"properties\": {\n        \"dtype\": \"category\",\n        \"num_unique_values\": 12,\n        \"samples\": [\n          \"Aquarius\",\n          \"Aries\"\n        ],\n        \"semantic_type\": \"\",\n        \"description\": \"\"\n      }\n    },\n    {\n      \"column\": \"FavLg\",\n      \"properties\": {\n        \"dtype\": \"category\",\n        \"num_unique_values\": 9,\n        \"samples\": [\n          \"Italian\",\n          \"French\"\n        ],\n        \"semantic_type\": \"\",\n        \"description\": \"\"\n      }\n    },\n    {\n      \"column\": \"GStat\",\n      \"properties\": {\n        \"dtype\": \"number\",\n        \"std\": 2.5684323780830622,\n        \"min\": 8.4,\n        \"max\": 19.0,\n        \"num_unique_values\": 37,\n        \"samples\": [\n          15.9,\n          8.4\n        ],\n        \"semantic_type\": \"\",\n        \"description\": \"\"\n      }\n    },\n    {\n      \"column\": \"GMath\",\n      \"properties\": {\n        \"dtype\": \"number\",\n        \"std\": 2.2631776261542527,\n        \"min\": 7.0,\n        \"max\": 20.0,\n        \"num_unique_values\": 27,\n        \"samples\": [\n          13.0,\n          9.8\n        ],\n        \"semantic_type\": \"\",\n        \"description\": \"\"\n      }\n    },\n    {\n      \"column\": \"GOOP\",\n      \"properties\": {\n        \"dtype\": \"number\",\n        \"std\": 1.8568151935521688,\n        \"min\": 10.0,\n        \"max\": 18.0,\n        \"num_unique_values\": 32,\n        \"samples\": [\n          12.5,\n          17.28\n        ],\n        \"semantic_type\": \"\",\n        \"description\": \"\"\n      }\n    },\n    {\n      \"column\": \"GEnglish\",\n      \"properties\": {\n        \"dtype\": \"number\",\n        \"std\": 2.24397807935239,\n        \"min\": 8.0,\n        \"max\": 20.0,\n        \"num_unique_values\": 31,\n        \"samples\": [\n          15.55,\n          13.23\n        ],\n        \"semantic_type\": \"\",\n        \"description\": \"\"\n      }\n    },\n    {\n      \"column\": \"LearnNSkill\",\n      \"properties\": {\n        \"dtype\": \"category\",\n        \"num_unique_values\": 2,\n        \"samples\": [\n          \"Yes\",\n          \"No\"\n        ],\n        \"semantic_type\": \"\",\n        \"description\": \"\"\n      }\n    },\n    {\n      \"column\": \"Gender\",\n      \"properties\": {\n        \"dtype\": \"category\",\n        \"num_unique_values\": 2,\n        \"samples\": [\n          \"F\",\n          \"M\"\n        ],\n        \"semantic_type\": \"\",\n        \"description\": \"\"\n      }\n    }\n  ]\n}"
            }
          },
          "metadata": {},
          "execution_count": 9
        }
      ]
    },
    {
      "cell_type": "markdown",
      "source": [
        "**Exercice 1:**\n",
        "\n",
        "1.   Use the previous output to answer what is the difference in the behavior of .loc and .iloc when it comes to slicing the dataset.\n",
        "2.   Without running but by only looking at the data, what will be the output of tayou_df.loc['10':'17', 'GStat':'GEnglish'].\n",
        "3.   Without running but by only looking at the data, what will be the output of tayou_df.iloc[0:7, 5:8]."
      ],
      "metadata": {
        "id": "nd8KkSI6gFQM"
      }
    },
    {
      "cell_type": "markdown",
      "source": [
        "Answers:\n",
        "1. he .iloc[] method uses position-based indexing, meaning it ignores index labels and focuses solely on row positions. In contrast, the .loc method performs label-based selection while .iloc performs position-based selection.\n",
        "2. 15\t15\t15\t18\n",
        "\n",
        "  nan nan nan nan\n",
        "\n",
        "   10\t10\t13\t13\n",
        "\n",
        "   14\t12\t17\t15\n",
        "\n",
        "   18\t18.15\t16\t15\n",
        "\n",
        "  16.5\t12.2\t13.62\t14.5\n",
        "\n",
        "  nan nan nan nan\n",
        "\n",
        "\n",
        "3. English\t15\t15\t15\n",
        "\n",
        "  French nan nan nan\n",
        "\n",
        "  English\t10\t10\t13\n",
        "\n",
        "  English\t14\t12\t17\n",
        "\n",
        "  French\t18\t18.15\t16\n",
        "\n",
        "  French\t16.5\t12.2\t13.62\n",
        "\n",
        "  English\t15\t16.7\t16.5"
      ],
      "metadata": {
        "id": "6PhIQ51GASbX"
      }
    },
    {
      "cell_type": "code",
      "source": [
        "print(tayou_df.loc['10':'17','GStat':'GEnglish'])"
      ],
      "metadata": {
        "colab": {
          "base_uri": "https://localhost:8080/"
        },
        "id": "TiKvSZG0RhW4",
        "outputId": "f2bd1381-5401-4476-bb81-df220bc45442"
      },
      "execution_count": null,
      "outputs": [
        {
          "output_type": "stream",
          "name": "stdout",
          "text": [
            "    GStat  GMath   GOOP  GEnglish\n",
            "10   15.0  15.00  15.00      18.0\n",
            "11    NaN    NaN    NaN       NaN\n",
            "12   10.0  10.00  13.00      13.0\n",
            "13   14.0  12.00  17.00      15.0\n",
            "14   18.0  18.15  16.00      15.0\n",
            "15   16.5  12.20  13.62      14.5\n",
            "16   15.0  16.70  16.50      13.5\n",
            "17    NaN    NaN    NaN       NaN\n"
          ]
        }
      ]
    },
    {
      "cell_type": "code",
      "source": [
        "print(tayou_df.iloc[0:7,5:8])"
      ],
      "metadata": {
        "colab": {
          "base_uri": "https://localhost:8080/"
        },
        "id": "qx0EsfrSUSLE",
        "outputId": "5604b79e-e5b4-4b6f-8e0b-1f19eb4faf9e"
      },
      "execution_count": null,
      "outputs": [
        {
          "output_type": "stream",
          "name": "stdout",
          "text": [
            "    GStat  GMath   GOOP\n",
            "10   15.0  15.00  15.00\n",
            "11    NaN    NaN    NaN\n",
            "12   10.0  10.00  13.00\n",
            "13   14.0  12.00  17.00\n",
            "14   18.0  18.15  16.00\n",
            "15   16.5  12.20  13.62\n",
            "16   15.0  16.70  16.50\n"
          ]
        }
      ]
    },
    {
      "cell_type": "code",
      "source": [
        "#Using loc, display only the rows with collector equal to 'Yes'\n",
        "print(tayou_df.loc[tayou_df['Collector'] == 'Yes'])"
      ],
      "metadata": {
        "id": "Q9MVrPNcCDhj",
        "colab": {
          "base_uri": "https://localhost:8080/"
        },
        "outputId": "2969edb0-2bfe-4875-a331-90f1a1a3aebc"
      },
      "execution_count": null,
      "outputs": [
        {
          "output_type": "stream",
          "name": "stdout",
          "text": [
            "          Personality Collector  Age   ZodiacSign    FavLg  GStat  GMath   GOOP  GEnglish LearnNSkill Gender\n",
            "15               Lion       Yes   23       Taurus   French  16.50  12.20  13.62     14.50         Yes      M\n",
            "19              Otter       Yes   23          Leo   Arabic  15.98  14.00  14.98     14.65         Yes      F\n",
            "21               Lion       Yes   24      Scorpio  English  12.00  16.00  16.00     17.00         Yes      M\n",
            "23              Otter       Yes   22  Sagittarius   Arabic  15.00  16.00  14.00     16.00         Yes      F\n",
            "33               Lion       Yes   23        Aries  Spanish   8.40  11.00  17.26     14.18         Yes      F\n",
            "41             Beaver       Yes   23        Libra   French  15.00  14.00  18.00     13.00         Yes      F\n",
            "42   Golden retriever       Yes   24       Pisces  Italian  10.53  12.00  13.00     12.10         Yes      F\n",
            "43               Lion       Yes   23       Taurus  Spanish  17.98  16.75  16.55     15.21         Yes      F\n",
            "48             Beaver       Yes   22        Libra   French  14.00  14.00  14.00     12.00         Yes      F\n",
            "50               Lion       Yes   23       Taurus  Spanish  18.00  18.00  18.00     18.00         Yes      M\n",
            "51               Lion       Yes   23        Virgo   French   9.80  12.00  11.13     13.03         Yes      M\n",
            "56             Beaver       Yes   29       Gemini  English    NaN   7.10    NaN     19.50         Yes      F\n",
            "59   Golden retriever       Yes   23        Virgo   French  11.40  14.91  15.51     13.00         Yes      F\n",
            "70               Lion       Yes   23        Libra   Arabic  10.00  13.00  15.00     15.00         Yes      M\n",
            "71             Beaver       Yes   24       Taurus  Italian    NaN    NaN    NaN       NaN         Yes      M\n",
            "72               Lion       Yes   23        Aries  English  15.00  16.00  15.00     15.00         Yes      M\n",
            "74             Beaver       Yes   22    Capricorn  Spanish  18.00  20.00  17.00     14.00         Yes      M\n",
            "78               Lion       Yes   22     Aquarius   French  12.00  12.00  12.00     16.00         Yes      F\n",
            "80   Golden retriever       Yes   23        Virgo  Spanish  17.00  18.00  16.00     18.00         Yes      M\n",
            "81               Lion       Yes   23       Cancer   Arabic  14.00  15.00  15.00     18.00         Yes      F\n",
            "84               Lion       Yes   23        Virgo  English  15.50  12.00  17.50     18.00         Yes      M\n",
            "93               Lion       Yes   22    Capricorn  Spanish  13.00  13.00  17.00     16.00         Yes      F\n",
            "96              Otter       Yes   23       Pisces  English  13.33  13.05  15.20     14.91         Yes      M\n",
            "98   Golden retriever       Yes   23        Virgo  English  13.00  12.00  18.00     13.00         Yes      F\n",
            "102            Beaver       Yes   23       Gemini   Arabic  17.00  12.00  10.00     16.00         Yes      F\n",
            "105             Otter       Yes   22     Aquarius  Spanish  12.00  13.00  10.00     15.00         Yes      F\n"
          ]
        }
      ]
    },
    {
      "cell_type": "code",
      "source": [
        "#Using loc, display only the rows with collector equal to 'Yes' and LearnNSkill equal to 'Yes'\n",
        "print(tayou_df.loc[(tayou_df['Collector'] == 'Yes') & (tayou_df['LearnNSkill'] == 'Yes')])"
      ],
      "metadata": {
        "id": "lZIbiVtSCuum",
        "colab": {
          "base_uri": "https://localhost:8080/"
        },
        "outputId": "027aecb8-6462-41be-dc64-78f4e6d8d9a7"
      },
      "execution_count": null,
      "outputs": [
        {
          "output_type": "stream",
          "name": "stdout",
          "text": [
            "          Personality Collector  Age   ZodiacSign    FavLg  GStat  GMath   GOOP  GEnglish LearnNSkill Gender\n",
            "15               Lion       Yes   23       Taurus   French  16.50  12.20  13.62     14.50         Yes      M\n",
            "19              Otter       Yes   23          Leo   Arabic  15.98  14.00  14.98     14.65         Yes      F\n",
            "21               Lion       Yes   24      Scorpio  English  12.00  16.00  16.00     17.00         Yes      M\n",
            "23              Otter       Yes   22  Sagittarius   Arabic  15.00  16.00  14.00     16.00         Yes      F\n",
            "33               Lion       Yes   23        Aries  Spanish   8.40  11.00  17.26     14.18         Yes      F\n",
            "41             Beaver       Yes   23        Libra   French  15.00  14.00  18.00     13.00         Yes      F\n",
            "42   Golden retriever       Yes   24       Pisces  Italian  10.53  12.00  13.00     12.10         Yes      F\n",
            "43               Lion       Yes   23       Taurus  Spanish  17.98  16.75  16.55     15.21         Yes      F\n",
            "48             Beaver       Yes   22        Libra   French  14.00  14.00  14.00     12.00         Yes      F\n",
            "50               Lion       Yes   23       Taurus  Spanish  18.00  18.00  18.00     18.00         Yes      M\n",
            "51               Lion       Yes   23        Virgo   French   9.80  12.00  11.13     13.03         Yes      M\n",
            "56             Beaver       Yes   29       Gemini  English    NaN   7.10    NaN     19.50         Yes      F\n",
            "59   Golden retriever       Yes   23        Virgo   French  11.40  14.91  15.51     13.00         Yes      F\n",
            "70               Lion       Yes   23        Libra   Arabic  10.00  13.00  15.00     15.00         Yes      M\n",
            "71             Beaver       Yes   24       Taurus  Italian    NaN    NaN    NaN       NaN         Yes      M\n",
            "72               Lion       Yes   23        Aries  English  15.00  16.00  15.00     15.00         Yes      M\n",
            "74             Beaver       Yes   22    Capricorn  Spanish  18.00  20.00  17.00     14.00         Yes      M\n",
            "78               Lion       Yes   22     Aquarius   French  12.00  12.00  12.00     16.00         Yes      F\n",
            "80   Golden retriever       Yes   23        Virgo  Spanish  17.00  18.00  16.00     18.00         Yes      M\n",
            "81               Lion       Yes   23       Cancer   Arabic  14.00  15.00  15.00     18.00         Yes      F\n",
            "84               Lion       Yes   23        Virgo  English  15.50  12.00  17.50     18.00         Yes      M\n",
            "93               Lion       Yes   22    Capricorn  Spanish  13.00  13.00  17.00     16.00         Yes      F\n",
            "96              Otter       Yes   23       Pisces  English  13.33  13.05  15.20     14.91         Yes      M\n",
            "98   Golden retriever       Yes   23        Virgo  English  13.00  12.00  18.00     13.00         Yes      F\n",
            "102            Beaver       Yes   23       Gemini   Arabic  17.00  12.00  10.00     16.00         Yes      F\n",
            "105             Otter       Yes   22     Aquarius  Spanish  12.00  13.00  10.00     15.00         Yes      F\n"
          ]
        }
      ]
    },
    {
      "cell_type": "code",
      "source": [
        "#interpret the results\n"
      ],
      "metadata": {
        "id": "yQ2xrQsvDvF-"
      },
      "execution_count": null,
      "outputs": []
    },
    {
      "cell_type": "markdown",
      "source": [
        "* ** Personality Types:** The people listed come from various personality types such as Lion, Otter, Beaver, and Golden Retriever. This suggests that the interest in collection and learning new skills spans multiple personality categories.\n",
        "\n",
        "* **Ages:** The ages of these individuals range from early 20s (22) to late 20s (29), which shows that people in this age group are more likely to be involved in both collection activities and learning new skills.\n",
        "\n",
        "* **Zodiac Signs:** The individuals belong to diverse zodiac signs such as Taurus, Leo, Scorpio, etc. This indicates no clear correlation between zodiac signs and the tendencies toward being a collector and learning new skills.\n",
        "\n",
        "* **Scores (GStat, GMath, GOOP, GEnglish):** Some individuals have missing scores in certain subjects (e.g., GStat, GOOP), but in general, they appear to have decent to high scores in most categories. This might suggest that collectors who are learning new skills may also perform well in their academic or personal achievements.\n",
        "\n",
        "* **Gender:** The dataset includes both males and females in this group, showing no specific gender bias towards collecting and learning new skills."
      ],
      "metadata": {
        "id": "TbLl2_qzZhKV"
      }
    },
    {
      "cell_type": "code",
      "source": [
        "tayou_df.info\n",
        "mlt_seris =tayou_df.groupby(['Personality','Gender','Collector']).GStat.mean()\n",
        "mlt_seris"
      ],
      "metadata": {
        "id": "GcAtVQHgGDjH",
        "colab": {
          "base_uri": "https://localhost:8080/",
          "height": 617
        },
        "outputId": "c72eea00-20f5-4213-8de0-53e1a31e1e62"
      },
      "execution_count": null,
      "outputs": [
        {
          "output_type": "execute_result",
          "data": {
            "text/plain": [
              "Personality       Gender  Collector\n",
              "Beaver            F       No           13.553000\n",
              "                          Yes          15.333333\n",
              "                  M       No           13.000000\n",
              "                          Yes          18.000000\n",
              "Golden retriever  F       No           14.413571\n",
              "                          Yes          11.643333\n",
              "                  M       No           14.444444\n",
              "                          Yes          17.000000\n",
              "Lion              F       No           14.457692\n",
              "                          Yes          13.076000\n",
              "                  M       No           13.893125\n",
              "                          Yes          13.828571\n",
              "Otter             F       No           12.966667\n",
              "                          Yes          14.326667\n",
              "                  M       No            9.000000\n",
              "                          Yes          13.330000\n",
              "Name: GStat, dtype: float64"
            ],
            "text/html": [
              "<div>\n",
              "<style scoped>\n",
              "    .dataframe tbody tr th:only-of-type {\n",
              "        vertical-align: middle;\n",
              "    }\n",
              "\n",
              "    .dataframe tbody tr th {\n",
              "        vertical-align: top;\n",
              "    }\n",
              "\n",
              "    .dataframe thead th {\n",
              "        text-align: right;\n",
              "    }\n",
              "</style>\n",
              "<table border=\"1\" class=\"dataframe\">\n",
              "  <thead>\n",
              "    <tr style=\"text-align: right;\">\n",
              "      <th></th>\n",
              "      <th></th>\n",
              "      <th></th>\n",
              "      <th>GStat</th>\n",
              "    </tr>\n",
              "    <tr>\n",
              "      <th>Personality</th>\n",
              "      <th>Gender</th>\n",
              "      <th>Collector</th>\n",
              "      <th></th>\n",
              "    </tr>\n",
              "  </thead>\n",
              "  <tbody>\n",
              "    <tr>\n",
              "      <th rowspan=\"4\" valign=\"top\">Beaver</th>\n",
              "      <th rowspan=\"2\" valign=\"top\">F</th>\n",
              "      <th>No</th>\n",
              "      <td>13.553000</td>\n",
              "    </tr>\n",
              "    <tr>\n",
              "      <th>Yes</th>\n",
              "      <td>15.333333</td>\n",
              "    </tr>\n",
              "    <tr>\n",
              "      <th rowspan=\"2\" valign=\"top\">M</th>\n",
              "      <th>No</th>\n",
              "      <td>13.000000</td>\n",
              "    </tr>\n",
              "    <tr>\n",
              "      <th>Yes</th>\n",
              "      <td>18.000000</td>\n",
              "    </tr>\n",
              "    <tr>\n",
              "      <th rowspan=\"4\" valign=\"top\">Golden retriever</th>\n",
              "      <th rowspan=\"2\" valign=\"top\">F</th>\n",
              "      <th>No</th>\n",
              "      <td>14.413571</td>\n",
              "    </tr>\n",
              "    <tr>\n",
              "      <th>Yes</th>\n",
              "      <td>11.643333</td>\n",
              "    </tr>\n",
              "    <tr>\n",
              "      <th rowspan=\"2\" valign=\"top\">M</th>\n",
              "      <th>No</th>\n",
              "      <td>14.444444</td>\n",
              "    </tr>\n",
              "    <tr>\n",
              "      <th>Yes</th>\n",
              "      <td>17.000000</td>\n",
              "    </tr>\n",
              "    <tr>\n",
              "      <th rowspan=\"4\" valign=\"top\">Lion</th>\n",
              "      <th rowspan=\"2\" valign=\"top\">F</th>\n",
              "      <th>No</th>\n",
              "      <td>14.457692</td>\n",
              "    </tr>\n",
              "    <tr>\n",
              "      <th>Yes</th>\n",
              "      <td>13.076000</td>\n",
              "    </tr>\n",
              "    <tr>\n",
              "      <th rowspan=\"2\" valign=\"top\">M</th>\n",
              "      <th>No</th>\n",
              "      <td>13.893125</td>\n",
              "    </tr>\n",
              "    <tr>\n",
              "      <th>Yes</th>\n",
              "      <td>13.828571</td>\n",
              "    </tr>\n",
              "    <tr>\n",
              "      <th rowspan=\"4\" valign=\"top\">Otter</th>\n",
              "      <th rowspan=\"2\" valign=\"top\">F</th>\n",
              "      <th>No</th>\n",
              "      <td>12.966667</td>\n",
              "    </tr>\n",
              "    <tr>\n",
              "      <th>Yes</th>\n",
              "      <td>14.326667</td>\n",
              "    </tr>\n",
              "    <tr>\n",
              "      <th rowspan=\"2\" valign=\"top\">M</th>\n",
              "      <th>No</th>\n",
              "      <td>9.000000</td>\n",
              "    </tr>\n",
              "    <tr>\n",
              "      <th>Yes</th>\n",
              "      <td>13.330000</td>\n",
              "    </tr>\n",
              "  </tbody>\n",
              "</table>\n",
              "</div><br><label><b>dtype:</b> float64</label>"
            ]
          },
          "metadata": {},
          "execution_count": 15
        }
      ]
    },
    {
      "cell_type": "markdown",
      "source": [
        "Note that you have created a **multi-index Series**, expand on its usefulness\n"
      ],
      "metadata": {
        "id": "lF_I0fwbGh1N"
      }
    },
    {
      "cell_type": "markdown",
      "source": [
        "Answer:\n",
        "\n",
        "It provides the average GStat score for each unique combination of Personality, Gender, and Collector status. This allows us to see how different personality types, genders, and collector statuses perform on average in terms of their GStat score.\n",
        "\n",
        "This can be useful for identifying patterns or trends across different groups, such as whether a particular personality or gender tends to have higher or lower average GStat scores among collectors or non-collectors."
      ],
      "metadata": {
        "id": "d8kGHwi3IISr"
      }
    },
    {
      "cell_type": "markdown",
      "source": [
        "**Exercice 2:**\n",
        "\n",
        "Now run the following codes, study the outputs, and answer the questions.\n",
        "\n",
        "1. When we use .iloc[] for a multi-index Series or DataFrame, what we should expect?\n",
        "2. When we use .loc[] to access the data of one of the inner most index level of multi-index Series, what should we expect?\n",
        "3. When we use .loc[] to access the data of one of non inner most index level of multi-index Series, what should we expect?\n",
        "4. When you run either line of code below in the third cell, you will get an error and that is the point of this question. Study the error and try to answer the question.\n",
        "\n"
      ],
      "metadata": {
        "id": "RlD2BAgBILSy"
      }
    },
    {
      "cell_type": "code",
      "source": [
        "print(mlt_seris.iloc[0])\n",
        "print(mlt_seris.iloc[1])\n",
        "print(mlt_seris.iloc[2])"
      ],
      "metadata": {
        "id": "NdQu6oHAGwgs",
        "colab": {
          "base_uri": "https://localhost:8080/"
        },
        "outputId": "5b25ba89-c682-45b6-cdcd-92593c689941"
      },
      "execution_count": null,
      "outputs": [
        {
          "output_type": "stream",
          "name": "stdout",
          "text": [
            "13.553\n",
            "15.333333333333334\n",
            "13.0\n"
          ]
        }
      ]
    },
    {
      "cell_type": "code",
      "source": [
        "mlt_seris.loc['Otter']"
      ],
      "metadata": {
        "id": "DlPAL5ayKZjF",
        "colab": {
          "base_uri": "https://localhost:8080/",
          "height": 241
        },
        "outputId": "cfd97f27-2bea-4ade-d8ef-66d9b6b5b699"
      },
      "execution_count": null,
      "outputs": [
        {
          "output_type": "execute_result",
          "data": {
            "text/plain": [
              "Gender  Collector\n",
              "F       No           12.966667\n",
              "        Yes          14.326667\n",
              "M       No            9.000000\n",
              "        Yes          13.330000\n",
              "Name: GStat, dtype: float64"
            ],
            "text/html": [
              "<div>\n",
              "<style scoped>\n",
              "    .dataframe tbody tr th:only-of-type {\n",
              "        vertical-align: middle;\n",
              "    }\n",
              "\n",
              "    .dataframe tbody tr th {\n",
              "        vertical-align: top;\n",
              "    }\n",
              "\n",
              "    .dataframe thead th {\n",
              "        text-align: right;\n",
              "    }\n",
              "</style>\n",
              "<table border=\"1\" class=\"dataframe\">\n",
              "  <thead>\n",
              "    <tr style=\"text-align: right;\">\n",
              "      <th></th>\n",
              "      <th></th>\n",
              "      <th>GStat</th>\n",
              "    </tr>\n",
              "    <tr>\n",
              "      <th>Gender</th>\n",
              "      <th>Collector</th>\n",
              "      <th></th>\n",
              "    </tr>\n",
              "  </thead>\n",
              "  <tbody>\n",
              "    <tr>\n",
              "      <th rowspan=\"2\" valign=\"top\">F</th>\n",
              "      <th>No</th>\n",
              "      <td>12.966667</td>\n",
              "    </tr>\n",
              "    <tr>\n",
              "      <th>Yes</th>\n",
              "      <td>14.326667</td>\n",
              "    </tr>\n",
              "    <tr>\n",
              "      <th rowspan=\"2\" valign=\"top\">M</th>\n",
              "      <th>No</th>\n",
              "      <td>9.000000</td>\n",
              "    </tr>\n",
              "    <tr>\n",
              "      <th>Yes</th>\n",
              "      <td>13.330000</td>\n",
              "    </tr>\n",
              "  </tbody>\n",
              "</table>\n",
              "</div><br><label><b>dtype:</b> float64</label>"
            ]
          },
          "metadata": {},
          "execution_count": 17
        }
      ]
    },
    {
      "cell_type": "code",
      "source": [
        "print(mlt_seris.loc['F'])\n",
        "print(mlt_seris.loc['Yes'])"
      ],
      "metadata": {
        "id": "IEXjSwHiKigL",
        "colab": {
          "base_uri": "https://localhost:8080/",
          "height": 569
        },
        "outputId": "74696108-f5bc-4f10-bec9-03fdcd1f847d"
      },
      "execution_count": null,
      "outputs": [
        {
          "output_type": "error",
          "ename": "KeyError",
          "evalue": "'F'",
          "traceback": [
            "\u001b[0;31m---------------------------------------------------------------------------\u001b[0m",
            "\u001b[0;31mKeyError\u001b[0m                                  Traceback (most recent call last)",
            "\u001b[0;32m/usr/local/lib/python3.10/dist-packages/pandas/core/indexes/base.py\u001b[0m in \u001b[0;36mget_loc\u001b[0;34m(self, key)\u001b[0m\n\u001b[1;32m   3804\u001b[0m         \u001b[0;32mtry\u001b[0m\u001b[0;34m:\u001b[0m\u001b[0;34m\u001b[0m\u001b[0;34m\u001b[0m\u001b[0m\n\u001b[0;32m-> 3805\u001b[0;31m             \u001b[0;32mreturn\u001b[0m \u001b[0mself\u001b[0m\u001b[0;34m.\u001b[0m\u001b[0m_engine\u001b[0m\u001b[0;34m.\u001b[0m\u001b[0mget_loc\u001b[0m\u001b[0;34m(\u001b[0m\u001b[0mcasted_key\u001b[0m\u001b[0;34m)\u001b[0m\u001b[0;34m\u001b[0m\u001b[0;34m\u001b[0m\u001b[0m\n\u001b[0m\u001b[1;32m   3806\u001b[0m         \u001b[0;32mexcept\u001b[0m \u001b[0mKeyError\u001b[0m \u001b[0;32mas\u001b[0m \u001b[0merr\u001b[0m\u001b[0;34m:\u001b[0m\u001b[0;34m\u001b[0m\u001b[0;34m\u001b[0m\u001b[0m\n",
            "\u001b[0;32mindex.pyx\u001b[0m in \u001b[0;36mpandas._libs.index.IndexEngine.get_loc\u001b[0;34m()\u001b[0m\n",
            "\u001b[0;32mindex.pyx\u001b[0m in \u001b[0;36mpandas._libs.index.IndexEngine.get_loc\u001b[0;34m()\u001b[0m\n",
            "\u001b[0;32mpandas/_libs/hashtable_class_helper.pxi\u001b[0m in \u001b[0;36mpandas._libs.hashtable.PyObjectHashTable.get_item\u001b[0;34m()\u001b[0m\n",
            "\u001b[0;32mpandas/_libs/hashtable_class_helper.pxi\u001b[0m in \u001b[0;36mpandas._libs.hashtable.PyObjectHashTable.get_item\u001b[0;34m()\u001b[0m\n",
            "\u001b[0;31mKeyError\u001b[0m: 'F'",
            "\nThe above exception was the direct cause of the following exception:\n",
            "\u001b[0;31mKeyError\u001b[0m                                  Traceback (most recent call last)",
            "\u001b[0;32m<ipython-input-18-40cfac83ae35>\u001b[0m in \u001b[0;36m<cell line: 1>\u001b[0;34m()\u001b[0m\n\u001b[0;32m----> 1\u001b[0;31m \u001b[0mprint\u001b[0m\u001b[0;34m(\u001b[0m\u001b[0mmlt_seris\u001b[0m\u001b[0;34m.\u001b[0m\u001b[0mloc\u001b[0m\u001b[0;34m[\u001b[0m\u001b[0;34m'F'\u001b[0m\u001b[0;34m]\u001b[0m\u001b[0;34m)\u001b[0m\u001b[0;34m\u001b[0m\u001b[0;34m\u001b[0m\u001b[0m\n\u001b[0m\u001b[1;32m      2\u001b[0m \u001b[0mprint\u001b[0m\u001b[0;34m(\u001b[0m\u001b[0mmlt_seris\u001b[0m\u001b[0;34m.\u001b[0m\u001b[0mloc\u001b[0m\u001b[0;34m[\u001b[0m\u001b[0;34m'Yes'\u001b[0m\u001b[0;34m]\u001b[0m\u001b[0;34m)\u001b[0m\u001b[0;34m\u001b[0m\u001b[0;34m\u001b[0m\u001b[0m\n",
            "\u001b[0;32m/usr/local/lib/python3.10/dist-packages/pandas/core/indexing.py\u001b[0m in \u001b[0;36m__getitem__\u001b[0;34m(self, key)\u001b[0m\n\u001b[1;32m   1189\u001b[0m             \u001b[0mmaybe_callable\u001b[0m \u001b[0;34m=\u001b[0m \u001b[0mcom\u001b[0m\u001b[0;34m.\u001b[0m\u001b[0mapply_if_callable\u001b[0m\u001b[0;34m(\u001b[0m\u001b[0mkey\u001b[0m\u001b[0;34m,\u001b[0m \u001b[0mself\u001b[0m\u001b[0;34m.\u001b[0m\u001b[0mobj\u001b[0m\u001b[0;34m)\u001b[0m\u001b[0;34m\u001b[0m\u001b[0;34m\u001b[0m\u001b[0m\n\u001b[1;32m   1190\u001b[0m             \u001b[0mmaybe_callable\u001b[0m \u001b[0;34m=\u001b[0m \u001b[0mself\u001b[0m\u001b[0;34m.\u001b[0m\u001b[0m_check_deprecated_callable_usage\u001b[0m\u001b[0;34m(\u001b[0m\u001b[0mkey\u001b[0m\u001b[0;34m,\u001b[0m \u001b[0mmaybe_callable\u001b[0m\u001b[0;34m)\u001b[0m\u001b[0;34m\u001b[0m\u001b[0;34m\u001b[0m\u001b[0m\n\u001b[0;32m-> 1191\u001b[0;31m             \u001b[0;32mreturn\u001b[0m \u001b[0mself\u001b[0m\u001b[0;34m.\u001b[0m\u001b[0m_getitem_axis\u001b[0m\u001b[0;34m(\u001b[0m\u001b[0mmaybe_callable\u001b[0m\u001b[0;34m,\u001b[0m \u001b[0maxis\u001b[0m\u001b[0;34m=\u001b[0m\u001b[0maxis\u001b[0m\u001b[0;34m)\u001b[0m\u001b[0;34m\u001b[0m\u001b[0;34m\u001b[0m\u001b[0m\n\u001b[0m\u001b[1;32m   1192\u001b[0m \u001b[0;34m\u001b[0m\u001b[0m\n\u001b[1;32m   1193\u001b[0m     \u001b[0;32mdef\u001b[0m \u001b[0m_is_scalar_access\u001b[0m\u001b[0;34m(\u001b[0m\u001b[0mself\u001b[0m\u001b[0;34m,\u001b[0m \u001b[0mkey\u001b[0m\u001b[0;34m:\u001b[0m \u001b[0mtuple\u001b[0m\u001b[0;34m)\u001b[0m\u001b[0;34m:\u001b[0m\u001b[0;34m\u001b[0m\u001b[0;34m\u001b[0m\u001b[0m\n",
            "\u001b[0;32m/usr/local/lib/python3.10/dist-packages/pandas/core/indexing.py\u001b[0m in \u001b[0;36m_getitem_axis\u001b[0;34m(self, key, axis)\u001b[0m\n\u001b[1;32m   1429\u001b[0m         \u001b[0;31m# fall thru to straight lookup\u001b[0m\u001b[0;34m\u001b[0m\u001b[0;34m\u001b[0m\u001b[0m\n\u001b[1;32m   1430\u001b[0m         \u001b[0mself\u001b[0m\u001b[0;34m.\u001b[0m\u001b[0m_validate_key\u001b[0m\u001b[0;34m(\u001b[0m\u001b[0mkey\u001b[0m\u001b[0;34m,\u001b[0m \u001b[0maxis\u001b[0m\u001b[0;34m)\u001b[0m\u001b[0;34m\u001b[0m\u001b[0;34m\u001b[0m\u001b[0m\n\u001b[0;32m-> 1431\u001b[0;31m         \u001b[0;32mreturn\u001b[0m \u001b[0mself\u001b[0m\u001b[0;34m.\u001b[0m\u001b[0m_get_label\u001b[0m\u001b[0;34m(\u001b[0m\u001b[0mkey\u001b[0m\u001b[0;34m,\u001b[0m \u001b[0maxis\u001b[0m\u001b[0;34m=\u001b[0m\u001b[0maxis\u001b[0m\u001b[0;34m)\u001b[0m\u001b[0;34m\u001b[0m\u001b[0;34m\u001b[0m\u001b[0m\n\u001b[0m\u001b[1;32m   1432\u001b[0m \u001b[0;34m\u001b[0m\u001b[0m\n\u001b[1;32m   1433\u001b[0m     \u001b[0;32mdef\u001b[0m \u001b[0m_get_slice_axis\u001b[0m\u001b[0;34m(\u001b[0m\u001b[0mself\u001b[0m\u001b[0;34m,\u001b[0m \u001b[0mslice_obj\u001b[0m\u001b[0;34m:\u001b[0m \u001b[0mslice\u001b[0m\u001b[0;34m,\u001b[0m \u001b[0maxis\u001b[0m\u001b[0;34m:\u001b[0m \u001b[0mAxisInt\u001b[0m\u001b[0;34m)\u001b[0m\u001b[0;34m:\u001b[0m\u001b[0;34m\u001b[0m\u001b[0;34m\u001b[0m\u001b[0m\n",
            "\u001b[0;32m/usr/local/lib/python3.10/dist-packages/pandas/core/indexing.py\u001b[0m in \u001b[0;36m_get_label\u001b[0;34m(self, label, axis)\u001b[0m\n\u001b[1;32m   1379\u001b[0m     \u001b[0;32mdef\u001b[0m \u001b[0m_get_label\u001b[0m\u001b[0;34m(\u001b[0m\u001b[0mself\u001b[0m\u001b[0;34m,\u001b[0m \u001b[0mlabel\u001b[0m\u001b[0;34m,\u001b[0m \u001b[0maxis\u001b[0m\u001b[0;34m:\u001b[0m \u001b[0mAxisInt\u001b[0m\u001b[0;34m)\u001b[0m\u001b[0;34m:\u001b[0m\u001b[0;34m\u001b[0m\u001b[0;34m\u001b[0m\u001b[0m\n\u001b[1;32m   1380\u001b[0m         \u001b[0;31m# GH#5567 this will fail if the label is not present in the axis.\u001b[0m\u001b[0;34m\u001b[0m\u001b[0;34m\u001b[0m\u001b[0m\n\u001b[0;32m-> 1381\u001b[0;31m         \u001b[0;32mreturn\u001b[0m \u001b[0mself\u001b[0m\u001b[0;34m.\u001b[0m\u001b[0mobj\u001b[0m\u001b[0;34m.\u001b[0m\u001b[0mxs\u001b[0m\u001b[0;34m(\u001b[0m\u001b[0mlabel\u001b[0m\u001b[0;34m,\u001b[0m \u001b[0maxis\u001b[0m\u001b[0;34m=\u001b[0m\u001b[0maxis\u001b[0m\u001b[0;34m)\u001b[0m\u001b[0;34m\u001b[0m\u001b[0;34m\u001b[0m\u001b[0m\n\u001b[0m\u001b[1;32m   1382\u001b[0m \u001b[0;34m\u001b[0m\u001b[0m\n\u001b[1;32m   1383\u001b[0m     \u001b[0;32mdef\u001b[0m \u001b[0m_handle_lowerdim_multi_index_axis0\u001b[0m\u001b[0;34m(\u001b[0m\u001b[0mself\u001b[0m\u001b[0;34m,\u001b[0m \u001b[0mtup\u001b[0m\u001b[0;34m:\u001b[0m \u001b[0mtuple\u001b[0m\u001b[0;34m)\u001b[0m\u001b[0;34m:\u001b[0m\u001b[0;34m\u001b[0m\u001b[0;34m\u001b[0m\u001b[0m\n",
            "\u001b[0;32m/usr/local/lib/python3.10/dist-packages/pandas/core/generic.py\u001b[0m in \u001b[0;36mxs\u001b[0;34m(self, key, axis, level, drop_level)\u001b[0m\n\u001b[1;32m   4291\u001b[0m \u001b[0;34m\u001b[0m\u001b[0m\n\u001b[1;32m   4292\u001b[0m         \u001b[0;32mif\u001b[0m \u001b[0misinstance\u001b[0m\u001b[0;34m(\u001b[0m\u001b[0mindex\u001b[0m\u001b[0;34m,\u001b[0m \u001b[0mMultiIndex\u001b[0m\u001b[0;34m)\u001b[0m\u001b[0;34m:\u001b[0m\u001b[0;34m\u001b[0m\u001b[0;34m\u001b[0m\u001b[0m\n\u001b[0;32m-> 4293\u001b[0;31m             \u001b[0mloc\u001b[0m\u001b[0;34m,\u001b[0m \u001b[0mnew_index\u001b[0m \u001b[0;34m=\u001b[0m \u001b[0mindex\u001b[0m\u001b[0;34m.\u001b[0m\u001b[0m_get_loc_level\u001b[0m\u001b[0;34m(\u001b[0m\u001b[0mkey\u001b[0m\u001b[0;34m,\u001b[0m \u001b[0mlevel\u001b[0m\u001b[0;34m=\u001b[0m\u001b[0;36m0\u001b[0m\u001b[0;34m)\u001b[0m\u001b[0;34m\u001b[0m\u001b[0;34m\u001b[0m\u001b[0m\n\u001b[0m\u001b[1;32m   4294\u001b[0m             \u001b[0;32mif\u001b[0m \u001b[0;32mnot\u001b[0m \u001b[0mdrop_level\u001b[0m\u001b[0;34m:\u001b[0m\u001b[0;34m\u001b[0m\u001b[0;34m\u001b[0m\u001b[0m\n\u001b[1;32m   4295\u001b[0m                 \u001b[0;32mif\u001b[0m \u001b[0mlib\u001b[0m\u001b[0;34m.\u001b[0m\u001b[0mis_integer\u001b[0m\u001b[0;34m(\u001b[0m\u001b[0mloc\u001b[0m\u001b[0;34m)\u001b[0m\u001b[0;34m:\u001b[0m\u001b[0;34m\u001b[0m\u001b[0;34m\u001b[0m\u001b[0m\n",
            "\u001b[0;32m/usr/local/lib/python3.10/dist-packages/pandas/core/indexes/multi.py\u001b[0m in \u001b[0;36m_get_loc_level\u001b[0;34m(self, key, level)\u001b[0m\n\u001b[1;32m   3288\u001b[0m                 \u001b[0;32mreturn\u001b[0m \u001b[0mindexer\u001b[0m\u001b[0;34m,\u001b[0m \u001b[0mmaybe_mi_droplevels\u001b[0m\u001b[0;34m(\u001b[0m\u001b[0mindexer\u001b[0m\u001b[0;34m,\u001b[0m \u001b[0milevels\u001b[0m\u001b[0;34m)\u001b[0m\u001b[0;34m\u001b[0m\u001b[0;34m\u001b[0m\u001b[0m\n\u001b[1;32m   3289\u001b[0m         \u001b[0;32melse\u001b[0m\u001b[0;34m:\u001b[0m\u001b[0;34m\u001b[0m\u001b[0;34m\u001b[0m\u001b[0m\n\u001b[0;32m-> 3290\u001b[0;31m             \u001b[0mindexer\u001b[0m \u001b[0;34m=\u001b[0m \u001b[0mself\u001b[0m\u001b[0;34m.\u001b[0m\u001b[0m_get_level_indexer\u001b[0m\u001b[0;34m(\u001b[0m\u001b[0mkey\u001b[0m\u001b[0;34m,\u001b[0m \u001b[0mlevel\u001b[0m\u001b[0;34m=\u001b[0m\u001b[0mlevel\u001b[0m\u001b[0;34m)\u001b[0m\u001b[0;34m\u001b[0m\u001b[0;34m\u001b[0m\u001b[0m\n\u001b[0m\u001b[1;32m   3291\u001b[0m             if (\n\u001b[1;32m   3292\u001b[0m                 \u001b[0misinstance\u001b[0m\u001b[0;34m(\u001b[0m\u001b[0mkey\u001b[0m\u001b[0;34m,\u001b[0m \u001b[0mstr\u001b[0m\u001b[0;34m)\u001b[0m\u001b[0;34m\u001b[0m\u001b[0;34m\u001b[0m\u001b[0m\n",
            "\u001b[0;32m/usr/local/lib/python3.10/dist-packages/pandas/core/indexes/multi.py\u001b[0m in \u001b[0;36m_get_level_indexer\u001b[0;34m(self, key, level, indexer)\u001b[0m\n\u001b[1;32m   3389\u001b[0m \u001b[0;34m\u001b[0m\u001b[0m\n\u001b[1;32m   3390\u001b[0m         \u001b[0;32melse\u001b[0m\u001b[0;34m:\u001b[0m\u001b[0;34m\u001b[0m\u001b[0;34m\u001b[0m\u001b[0m\n\u001b[0;32m-> 3391\u001b[0;31m             \u001b[0midx\u001b[0m \u001b[0;34m=\u001b[0m \u001b[0mself\u001b[0m\u001b[0;34m.\u001b[0m\u001b[0m_get_loc_single_level_index\u001b[0m\u001b[0;34m(\u001b[0m\u001b[0mlevel_index\u001b[0m\u001b[0;34m,\u001b[0m \u001b[0mkey\u001b[0m\u001b[0;34m)\u001b[0m\u001b[0;34m\u001b[0m\u001b[0;34m\u001b[0m\u001b[0m\n\u001b[0m\u001b[1;32m   3392\u001b[0m \u001b[0;34m\u001b[0m\u001b[0m\n\u001b[1;32m   3393\u001b[0m             \u001b[0;32mif\u001b[0m \u001b[0mlevel\u001b[0m \u001b[0;34m>\u001b[0m \u001b[0;36m0\u001b[0m \u001b[0;32mor\u001b[0m \u001b[0mself\u001b[0m\u001b[0;34m.\u001b[0m\u001b[0m_lexsort_depth\u001b[0m \u001b[0;34m==\u001b[0m \u001b[0;36m0\u001b[0m\u001b[0;34m:\u001b[0m\u001b[0;34m\u001b[0m\u001b[0;34m\u001b[0m\u001b[0m\n",
            "\u001b[0;32m/usr/local/lib/python3.10/dist-packages/pandas/core/indexes/multi.py\u001b[0m in \u001b[0;36m_get_loc_single_level_index\u001b[0;34m(self, level_index, key)\u001b[0m\n\u001b[1;32m   2978\u001b[0m             \u001b[0;32mreturn\u001b[0m \u001b[0;34m-\u001b[0m\u001b[0;36m1\u001b[0m\u001b[0;34m\u001b[0m\u001b[0;34m\u001b[0m\u001b[0m\n\u001b[1;32m   2979\u001b[0m         \u001b[0;32melse\u001b[0m\u001b[0;34m:\u001b[0m\u001b[0;34m\u001b[0m\u001b[0;34m\u001b[0m\u001b[0m\n\u001b[0;32m-> 2980\u001b[0;31m             \u001b[0;32mreturn\u001b[0m \u001b[0mlevel_index\u001b[0m\u001b[0;34m.\u001b[0m\u001b[0mget_loc\u001b[0m\u001b[0;34m(\u001b[0m\u001b[0mkey\u001b[0m\u001b[0;34m)\u001b[0m\u001b[0;34m\u001b[0m\u001b[0;34m\u001b[0m\u001b[0m\n\u001b[0m\u001b[1;32m   2981\u001b[0m \u001b[0;34m\u001b[0m\u001b[0m\n\u001b[1;32m   2982\u001b[0m     \u001b[0;32mdef\u001b[0m \u001b[0mget_loc\u001b[0m\u001b[0;34m(\u001b[0m\u001b[0mself\u001b[0m\u001b[0;34m,\u001b[0m \u001b[0mkey\u001b[0m\u001b[0;34m)\u001b[0m\u001b[0;34m:\u001b[0m\u001b[0;34m\u001b[0m\u001b[0;34m\u001b[0m\u001b[0m\n",
            "\u001b[0;32m/usr/local/lib/python3.10/dist-packages/pandas/core/indexes/base.py\u001b[0m in \u001b[0;36mget_loc\u001b[0;34m(self, key)\u001b[0m\n\u001b[1;32m   3810\u001b[0m             ):\n\u001b[1;32m   3811\u001b[0m                 \u001b[0;32mraise\u001b[0m \u001b[0mInvalidIndexError\u001b[0m\u001b[0;34m(\u001b[0m\u001b[0mkey\u001b[0m\u001b[0;34m)\u001b[0m\u001b[0;34m\u001b[0m\u001b[0;34m\u001b[0m\u001b[0m\n\u001b[0;32m-> 3812\u001b[0;31m             \u001b[0;32mraise\u001b[0m \u001b[0mKeyError\u001b[0m\u001b[0;34m(\u001b[0m\u001b[0mkey\u001b[0m\u001b[0;34m)\u001b[0m \u001b[0;32mfrom\u001b[0m \u001b[0merr\u001b[0m\u001b[0;34m\u001b[0m\u001b[0;34m\u001b[0m\u001b[0m\n\u001b[0m\u001b[1;32m   3813\u001b[0m         \u001b[0;32mexcept\u001b[0m \u001b[0mTypeError\u001b[0m\u001b[0;34m:\u001b[0m\u001b[0;34m\u001b[0m\u001b[0;34m\u001b[0m\u001b[0m\n\u001b[1;32m   3814\u001b[0m             \u001b[0;31m# If we have a listlike key, _check_indexing_error will raise\u001b[0m\u001b[0;34m\u001b[0m\u001b[0;34m\u001b[0m\u001b[0m\n",
            "\u001b[0;31mKeyError\u001b[0m: 'F'"
          ]
        }
      ]
    },
    {
      "cell_type": "markdown",
      "source": [
        "Answers:\n",
        "................................................."
      ],
      "metadata": {
        "id": "tm8i1wW1sCrG"
      }
    },
    {
      "cell_type": "markdown",
      "source": [
        "\n",
        "\n",
        "1.   It will return the rows located at the specified position index, not based on the labels of the multi-index.\n",
        "\n",
        "2.   It will return the values corresponding to that innermost level of the multi-index.\n",
        "\n",
        "3.   It should return a sub-multi-index DataFrame or Series, still with the other levels of the multi-index intact.\n",
        "\n",
        "4.   because the indexing method .loc[] was expecting a full hierarchical path through the multi-index levels."
      ],
      "metadata": {
        "id": "el-2pISGeh90"
      }
    },
    {
      "cell_type": "markdown",
      "source": [
        "### 3.   Central tendency\n",
        "\n"
      ],
      "metadata": {
        "id": "NoBhTcfn3Ori"
      }
    },
    {
      "cell_type": "markdown",
      "source": [
        "in this section we will be answering the following question: **Given an attribute, where do most of its values fall?**\n",
        "\n",
        "The central tendency measures the location of **the middle **or **center **of a data distribution\n",
        "\n",
        "Measures are: **mean**, **median** and **mode**\n"
      ],
      "metadata": {
        "id": "GM-3oTWusbUS"
      }
    },
    {
      "cell_type": "code",
      "source": [
        "num_split=tayou_df.loc[:,tayou_df.dtypes!=object] #..........................................\n",
        "num_split.head()"
      ],
      "metadata": {
        "id": "M_Z_Zl6xJ1CK"
      },
      "execution_count": null,
      "outputs": []
    },
    {
      "cell_type": "code",
      "source": [
        "categ_split=tayou_df.loc[:,tayou_df.dtypes==object] #...........................................\n",
        "categ_split.head()"
      ],
      "metadata": {
        "id": "eb8bGz74HpLq"
      },
      "execution_count": null,
      "outputs": []
    },
    {
      "cell_type": "code",
      "source": [
        "for column_name in num_split.columns:\n",
        "    print(num_split[column_name].mean())\n",
        "    print(num_split[column_name].median())\n",
        "    print(num_split[column_name].mode())"
      ],
      "metadata": {
        "id": "Zj4rTIzlJ_NF"
      },
      "execution_count": null,
      "outputs": []
    },
    {
      "cell_type": "markdown",
      "source": [
        " Interpret the obtained results: (Indication: compare the values you have obtained for each attribute for the mean, the median and the mode)\n",
        "\n",
        "==> The mean and median are relatively close for all the numerical columns, indicating that the data is fairly symmetric.\n",
        "The mode shows that the value of 15 is the most common in all columns, suggesting that a score of 15 is frequently repeated across different subjects."
      ],
      "metadata": {
        "id": "ArwqsOi3xq50"
      }
    },
    {
      "cell_type": "code",
      "source": [
        "import matplotlib.pyplot as plt\n",
        "import scipy.stats as stats\n",
        "# Calculating the mean and standard deviation of the parameter \"GStat\":\n",
        "mean = tayou_df['GStat'].mean()\n",
        "std = tayou_df['GStat'].std()\n",
        "\n",
        "# Calculating probability density function (PDF)\n",
        "pdf = stats.norm.pdf(tayou_df['GStat'].sort_values(), mean, std)\n",
        "\n",
        "# Drawing a graph\n",
        "plt.plot(tayou_df['GStat'].sort_values(), pdf)\n",
        "plt.xlim([5,20])\n",
        "plt.xlabel('Grades in Statistics (GStat)', size=12)\n",
        "plt.ylabel('Frequency', size=12)\n",
        "plt.grid(True, alpha=0.3, linestyle='--')\n",
        "plt.show()"
      ],
      "metadata": {
        "id": "kKF1I1ZJyM_t"
      },
      "execution_count": null,
      "outputs": []
    },
    {
      "cell_type": "markdown",
      "source": [
        "Interpret the resulting plot:\n",
        "\n",
        "The plot shows a bell-shaped curve, indicating that the grades in statistics (GStat) follow a normal distribution. Most students scored around the mean of 14, with fewer students scoring much higher or lower. The distribution is symmetrical, suggesting no significant skewness or outliers in the data."
      ],
      "metadata": {
        "id": "r3n3wGtXqofa"
      }
    },
    {
      "cell_type": "code",
      "source": [
        "for column_name in categ_split.columns:\n",
        "    print(categ_split[column_name].mode())\n",
        "    print(categ_split[column_name].value_counts())"
      ],
      "metadata": {
        "id": "xd0e8XvXLkIZ"
      },
      "execution_count": null,
      "outputs": []
    },
    {
      "cell_type": "markdown",
      "source": [
        "Interpret the results:\n",
        "*  Lion is the dominant personality, and most respondents are not collectors.\n",
        "*  Gemini and Leo are the most frequent zodiac signs.\n",
        "*  English is the most preferred language, with some data inconsistencies in language entries.\n",
        "*  The overwhelming majority enjoy learning new skills, and there is a slightly higher number of females than males."
      ],
      "metadata": {
        "id": "965A_WbgL3py"
      }
    },
    {
      "cell_type": "markdown",
      "source": [
        "### 4.  Dispersion\n",
        "\n"
      ],
      "metadata": {
        "id": "3TVqABp23pAp"
      }
    },
    {
      "cell_type": "markdown",
      "source": [
        "In this section, we will be answering the following question: **How are the data spread out?** by measuring the variability of data\n",
        "\n",
        "Measures: **range**, **quartiles**,**interquartile range**, **variance** and **standard deviation**"
      ],
      "metadata": {
        "id": "oks3akpa6hO0"
      }
    },
    {
      "cell_type": "code",
      "source": [
        "# the range\n",
        "def range_imp(dat):\n",
        "  return (dat.max()-dat.min())"
      ],
      "metadata": {
        "id": "4qzDctHa3xp8"
      },
      "execution_count": null,
      "outputs": []
    },
    {
      "cell_type": "code",
      "source": [
        "#Use the function to compute the range for each numerical attribute\n",
        "numerical_columns = ['GStat', 'GMath', 'GOOP', 'GEnglish']\n",
        "range_values = tayou_df[numerical_columns].apply(range_imp)\n",
        "\n",
        "range_values"
      ],
      "metadata": {
        "id": "E1pUeKHu78V7"
      },
      "execution_count": null,
      "outputs": []
    },
    {
      "cell_type": "code",
      "source": [
        "tayou_df.describe()"
      ],
      "metadata": {
        "id": "bg_B4gyuKpC3"
      },
      "execution_count": null,
      "outputs": []
    },
    {
      "cell_type": "code",
      "source": [
        "#Quartiles\n",
        "for column_name in num_split.columns:\n",
        "    print(num_split[column_name].quantile([0.25,0.5,0.75]))"
      ],
      "metadata": {
        "id": "GsbBHfpyK0b7"
      },
      "execution_count": null,
      "outputs": []
    },
    {
      "cell_type": "code",
      "source": [
        "#interquartile range (IQR)\n",
        "def interquartile_range(dat):\n",
        "  return (dat.quantile(0.75)-dat.quantile(0.25))"
      ],
      "metadata": {
        "id": "ss4GEjKILbUz"
      },
      "execution_count": null,
      "outputs": []
    },
    {
      "cell_type": "code",
      "source": [
        "#Use the function to compute the interquartile range for each numerical attribute\n",
        "iqr_values = tayou_df[numerical_columns].apply(interquartile_range)\n",
        "\n",
        "iqr_values"
      ],
      "metadata": {
        "id": "srn4gwUva-lu"
      },
      "execution_count": null,
      "outputs": []
    },
    {
      "cell_type": "code",
      "source": [
        "#boxplots\n",
        "num_split.boxplot()"
      ],
      "metadata": {
        "id": "k0iXFXtJLrRe"
      },
      "execution_count": null,
      "outputs": []
    },
    {
      "cell_type": "markdown",
      "source": [
        "Interpret the boxplots accroding to the values obtained in the previous results\n",
        "\n",
        "*  The grades generally hover around the median score of 14-15 across most subjects.\n",
        "*  Statistics (GStat) has the most variability, with a wider range and more extreme low-performing students.\n",
        "*  Mathematics (GMath) and English (GEnglish) show the presence of outliers, though the majority of the students perform within a close range.\n",
        "*  There are several outliers across the dataset, indicating students who scored significantly higher or lower than the rest."
      ],
      "metadata": {
        "id": "mHR7bmBAf0so"
      }
    },
    {
      "cell_type": "code",
      "source": [
        "#Variance\n",
        "num_split.var()"
      ],
      "metadata": {
        "id": "yZfBssB3LfyI"
      },
      "execution_count": null,
      "outputs": []
    },
    {
      "cell_type": "code",
      "source": [
        "#Standard deviation\n",
        "num_split.std()"
      ],
      "metadata": {
        "id": "W8zcbZ4cLkTQ"
      },
      "execution_count": null,
      "outputs": []
    },
    {
      "cell_type": "markdown",
      "source": [
        "Interpret the results:\n",
        "\n",
        "GStat (Statistics) has the highest spread, indicating the most diverse performance among students.\n",
        "\n",
        "GOOP (Programming) has the least variability, indicating more consistent performance.\n",
        "\n",
        "The standard deviations for all subjects suggest that students' grades generally fall within a range of 2 to 3 points around the mean, but with some subjects showing more variation than others."
      ],
      "metadata": {
        "id": "VT6b1YP5ipRT"
      }
    },
    {
      "cell_type": "markdown",
      "source": [
        "### 5. Symmetry"
      ],
      "metadata": {
        "id": "ydfQpgm1Mz9f"
      }
    },
    {
      "cell_type": "code",
      "source": [
        "#Skewness\n",
        "num_split.skew()"
      ],
      "metadata": {
        "id": "w6FyldrvLv5C"
      },
      "execution_count": null,
      "outputs": []
    },
    {
      "cell_type": "markdown",
      "source": [
        "Interpret the results:\n",
        "\n",
        "Age is highly positively skewed, indicating that most students are younger, with some significantly older outliers.\n",
        "\n",
        "The grades for GStat, GMath, GOOP, and GEnglish all show slight to moderate negative skewness, suggesting that more students scored on the higher end, but a few lower scores pull the tail to the left.\n"
      ],
      "metadata": {
        "id": "acdlFai7j7eD"
      }
    },
    {
      "cell_type": "code",
      "source": [
        "#Kurtosis\n",
        "num_split.kurtosis()"
      ],
      "metadata": {
        "id": "UlI5y5k-L0Sf"
      },
      "execution_count": null,
      "outputs": []
    },
    {
      "cell_type": "markdown",
      "source": [
        "Interpret the results:\n",
        "\n",
        "Age has an extremely leptokurtic distribution, with many outliers (students older than the majority).\n",
        "\n",
        "GStat and GOOP have flatter (platykurtic) distributions, meaning fewer extreme values.\n",
        "\n",
        "GMath and GEnglish show slight leptokurtosis, indicating more outliers or extreme values compared to a normal distribution.\n"
      ],
      "metadata": {
        "id": "ZCUgEIyjnenq"
      }
    }
  ]
}